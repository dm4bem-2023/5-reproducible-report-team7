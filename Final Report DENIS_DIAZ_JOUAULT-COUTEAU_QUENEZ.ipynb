{
 "cells": [
  {
   "cell_type": "code",
   "execution_count": 1,
   "id": "04d586a9-4e84-4921-8d34-78de5496c9e1",
   "metadata": {},
   "outputs": [],
   "source": [
    "import numpy as np\n",
    "import pandas as pd\n",
    "import matplotlib.pyplot as plt\n",
    "import dm4bem"
   ]
  },
  {
   "cell_type": "markdown",
   "id": "1aed3f51-5e7c-4181-b3dd-4d412005d8c8",
   "metadata": {},
   "source": [
    "# Dynamic Models for Building Energy Management "
   ]
  },
  {
   "cell_type": "markdown",
   "id": "c2df766a",
   "metadata": {},
   "source": [
    "DENIS Yann / DIAZ Hugo / QUENEZ Erwan / JOUAULT-COUTEAU Kilian                                       \n",
    "2A SEM \n",
    "30/05/2023 "
   ]
  },
  {
   "cell_type": "markdown",
   "id": "8f64d31f-0822-4524-842e-76bb71cfbb44",
   "metadata": {},
   "source": [
    "## Parameters\n",
    "### Dimension of the Building \n",
    "\n",
    "Each Room has a cubic shape\n",
    "![building](Schema.png)\n",
    "> Figure 1. Schema of the building"
   ]
  },
  {
   "cell_type": "code",
   "execution_count": 2,
   "id": "5477e2f9-2735-48e5-9e32-2ff6fe034aa5",
   "metadata": {
    "tags": []
   },
   "outputs": [],
   "source": [
    "l = 3              # m length of the cubic room\n",
    "Sg = l**2          # m² surface of the glass wall\n",
    "Sc = Si = 10 * Sg  # m² surface of concrete & insulation of the walls"
   ]
  },
  {
   "cell_type": "markdown",
   "id": "9e56fddc-ed2f-4162-ab85-ab3b641e8526",
   "metadata": {
    "tags": []
   },
   "source": [
    "We consider that M1,M2,M3 are inside the building and M4 is outside. Then the only exchange are between the inside and the outside with M4 and between the two rooms with M5\n",
    "\n",
    "### Thermo-Physical Properties\n",
    "We consider than the wall is made of a width of insulation and a width of concrete (eM=eI+eC)"
   ]
  },
  {
   "cell_type": "code",
   "execution_count": 3,
   "id": "9b62a3db-e4c2-4e7e-864a-aecd2231fd60",
   "metadata": {
    "tags": []
   },
   "outputs": [
    {
     "data": {
      "text/html": [
       "<div>\n",
       "<style scoped>\n",
       "    .dataframe tbody tr th:only-of-type {\n",
       "        vertical-align: middle;\n",
       "    }\n",
       "\n",
       "    .dataframe tbody tr th {\n",
       "        vertical-align: top;\n",
       "    }\n",
       "\n",
       "    .dataframe thead th {\n",
       "        text-align: right;\n",
       "    }\n",
       "</style>\n",
       "<table border=\"1\" class=\"dataframe\">\n",
       "  <thead>\n",
       "    <tr style=\"text-align: right;\">\n",
       "      <th></th>\n",
       "      <th>Density</th>\n",
       "      <th>Specific heat</th>\n",
       "    </tr>\n",
       "  </thead>\n",
       "  <tbody>\n",
       "    <tr>\n",
       "      <th>Air</th>\n",
       "      <td>1.2</td>\n",
       "      <td>1000</td>\n",
       "    </tr>\n",
       "  </tbody>\n",
       "</table>\n",
       "</div>"
      ],
      "text/plain": [
       "     Density  Specific heat\n",
       "Air      1.2           1000"
      ]
     },
     "execution_count": 3,
     "metadata": {},
     "output_type": "execute_result"
    }
   ],
   "source": [
    "concrete = {'Conductivity': 1.400,\n",
    "            'Density': 2400.0,\n",
    "            'Specific heat': 880,\n",
    "            'Width': 0.2,\n",
    "            'Surface': 9 * l**2}\n",
    "\n",
    "insulation = {'Conductivity': 0.027,\n",
    "              'Density': 55.0,\n",
    "              'Specific heat': 1210,\n",
    "              'Width': 0.1,\n",
    "              'Surface': 9 * l**2}\n",
    "\n",
    "glass = {'Conductivity': 1.4,\n",
    "         'Density': 2500,\n",
    "         'Specific heat': 1210,\n",
    "         'Width': 0.04,\n",
    "         'Surface': 2*(l**2)}\n",
    "\n",
    "wall = pd.DataFrame.from_dict({'Layer_out': insulation,\n",
    "                               'Layer_in': concrete,\n",
    "                               'Glass': glass},\n",
    "                              orient='index')\n",
    "wall\n",
    "\n",
    "air = {'Density': 1.2,                      # kg/m³\n",
    "       'Specific heat': 1000}               # J/(kg·K)\n",
    "# pd.DataFrame.from_dict(air, orient='index', columns=['air'])\n",
    "pd.DataFrame(air, index=['Air'])"
   ]
  },
  {
   "cell_type": "markdown",
   "id": "0dcd158b",
   "metadata": {},
   "source": [
    "### Radiative properties"
   ]
  },
  {
   "cell_type": "markdown",
   "id": "8b20e095",
   "metadata": {},
   "source": [
    "The radiative properties of the surfaces are:\n",
    "\n",
    "- long wave emmisivity of concrete (between normal and rough) and glass pyrex;\n",
    "- short wave absortivity of solar radiation of white smooth surfaces;\n",
    "- short wave transmittance of window glass (thickness of 4 mm);\n",
    "- short wave absortivity and transmittance of reflective blue window glass."
   ]
  },
  {
   "cell_type": "code",
   "execution_count": 4,
   "id": "ce27f02a",
   "metadata": {},
   "outputs": [
    {
     "name": "stdout",
     "output_type": "stream",
     "text": [
      "σ = 5.67e-08 W/(m²⋅K⁴)\n"
     ]
    }
   ],
   "source": [
    "# radiative properties\n",
    "ε_wLW = 0.85    # long wave emmisivity: wall surface (concrete)\n",
    "ε_gLW = 0.90    # long wave emmisivity: glass pyrex\n",
    "α_wSW = 0.25    # short wave absortivity: white smooth surface\n",
    "α_gSW = 0.38    # short wave absortivity: reflective blue glass\n",
    "τ_gSW = 0.30    # short wave transmitance: reflective blue glass\n",
    "\n",
    "σ = 5.67e-8     # W/(m²⋅K⁴) Stefan-Bolzmann constant\n",
    "print(f'σ = {σ} W/(m²⋅K⁴)')"
   ]
  },
  {
   "cell_type": "markdown",
   "id": "63f74cf3",
   "metadata": {},
   "source": [
    "### Convection properties"
   ]
  },
  {
   "cell_type": "code",
   "execution_count": 5,
   "id": "a5bcdd13",
   "metadata": {},
   "outputs": [
    {
     "data": {
      "text/html": [
       "<div>\n",
       "<style scoped>\n",
       "    .dataframe tbody tr th:only-of-type {\n",
       "        vertical-align: middle;\n",
       "    }\n",
       "\n",
       "    .dataframe tbody tr th {\n",
       "        vertical-align: top;\n",
       "    }\n",
       "\n",
       "    .dataframe thead th {\n",
       "        text-align: right;\n",
       "    }\n",
       "</style>\n",
       "<table border=\"1\" class=\"dataframe\">\n",
       "  <thead>\n",
       "    <tr style=\"text-align: right;\">\n",
       "      <th></th>\n",
       "      <th>in</th>\n",
       "      <th>out</th>\n",
       "    </tr>\n",
       "  </thead>\n",
       "  <tbody>\n",
       "    <tr>\n",
       "      <th>h0</th>\n",
       "      <td>8.0</td>\n",
       "      <td>25</td>\n",
       "    </tr>\n",
       "  </tbody>\n",
       "</table>\n",
       "</div>"
      ],
      "text/plain": [
       "     in  out\n",
       "h0  8.0   25"
      ]
     },
     "execution_count": 5,
     "metadata": {},
     "output_type": "execute_result"
    }
   ],
   "source": [
    "h0 = pd.DataFrame([{'in': 8., 'out': 25}], index=['h0'])  # W/(m²⋅K)\n",
    "# h = pd.DataFrame([{'in': 8., 'out': 25}])  # W/(m²⋅K)\n",
    "h0"
   ]
  },
  {
   "cell_type": "markdown",
   "id": "6df127d8",
   "metadata": {},
   "source": [
    "To take into account the long wave radiation, we add 4 at the value of h_in"
   ]
  },
  {
   "cell_type": "code",
   "execution_count": 6,
   "id": "71f600ac",
   "metadata": {},
   "outputs": [
    {
     "data": {
      "text/html": [
       "<div>\n",
       "<style scoped>\n",
       "    .dataframe tbody tr th:only-of-type {\n",
       "        vertical-align: middle;\n",
       "    }\n",
       "\n",
       "    .dataframe tbody tr th {\n",
       "        vertical-align: top;\n",
       "    }\n",
       "\n",
       "    .dataframe thead th {\n",
       "        text-align: right;\n",
       "    }\n",
       "</style>\n",
       "<table border=\"1\" class=\"dataframe\">\n",
       "  <thead>\n",
       "    <tr style=\"text-align: right;\">\n",
       "      <th></th>\n",
       "      <th>in</th>\n",
       "      <th>out</th>\n",
       "    </tr>\n",
       "  </thead>\n",
       "  <tbody>\n",
       "    <tr>\n",
       "      <th>h</th>\n",
       "      <td>12.0</td>\n",
       "      <td>25</td>\n",
       "    </tr>\n",
       "  </tbody>\n",
       "</table>\n",
       "</div>"
      ],
      "text/plain": [
       "     in  out\n",
       "h  12.0   25"
      ]
     },
     "execution_count": 6,
     "metadata": {},
     "output_type": "execute_result"
    }
   ],
   "source": [
    "h = pd.DataFrame([{'in': 12., 'out': 25}], index=['h'])  # W/(m²⋅K)\n",
    "# h = pd.DataFrame([{'in': 8., 'out': 25}])  # W/(m²⋅K)\n",
    "h"
   ]
  },
  {
   "cell_type": "markdown",
   "id": "b60e1fd8-406f-4e9f-ab2c-36f80326d170",
   "metadata": {},
   "source": [
    "### Thermal circuit"
   ]
  },
  {
   "cell_type": "markdown",
   "id": "9b1ba43e",
   "metadata": {},
   "source": [
    "Figure bellow shows the models of :\n",
    "\n",
    "concrete & insulation wall: in red;\n",
    "glass window: in green;\n",
    "ventilation: in magenta;\n",
    "indoor volume: in blue (conductances 6 & 7 for convection; conductance 5 for long wave radiation between the walls and the glass window);\n",
    "HVAC system: in black.\n",
    "\n",
    "Here is the thermal circuit :\n",
    "![thermal circuit](Schemathermique.png)\n",
    "> Figure 2. Schema of the thermal circuit\n",
    "\n",
    "The sources are:\n",
    "\n",
    "- T0 outdoor temperature, °C;\n",
    "- Ti,sp setpoint temperaure for the indoor air, °C;\n",
    "- ϕ0 solar radiation absorbed by the outdoor surface of the wall, W;\n",
    "- ϕi solar radiation absorbed by the indoor surface of the wall, W;\n",
    "- Qa auxiliary heat gains (i.e., occupants, electrical devices, etc.), W;\n",
    "- ϕa solar radiation absorbed by the glass, W."
   ]
  },
  {
   "cell_type": "markdown",
   "id": "078671de",
   "metadata": {},
   "source": [
    "### Conductance"
   ]
  },
  {
   "cell_type": "markdown",
   "id": "076b2c99",
   "metadata": {},
   "source": [
    "The conductances 1, 2, 3, and 4 of the thermal circuit from Figure 3 model the heat transfer by conduction. Conduction conductances, in W/K, are of the form: "
   ]
  },
  {
   "cell_type": "markdown",
   "id": "6413771c",
   "metadata": {},
   "source": [
    "$$G_{cd}=\\frac{\\lambda }{w}*S$$"
   ]
  },
  {
   "cell_type": "markdown",
   "id": "0a461faa",
   "metadata": {},
   "source": [
    "where:\n",
    "\n",
    " - $\\lambda$ : thermal conductvity, W/(m⋅K);\n",
    " - w : width of the material, m;\n",
    " - S : surface area of the wall, m²"
   ]
  },
  {
   "cell_type": "code",
   "execution_count": 7,
   "id": "6888228f-8585-4394-a809-e0c4f36fd205",
   "metadata": {
    "scrolled": true
   },
   "outputs": [
    {
     "data": {
      "text/html": [
       "<div>\n",
       "<style scoped>\n",
       "    .dataframe tbody tr th:only-of-type {\n",
       "        vertical-align: middle;\n",
       "    }\n",
       "\n",
       "    .dataframe tbody tr th {\n",
       "        vertical-align: top;\n",
       "    }\n",
       "\n",
       "    .dataframe thead th {\n",
       "        text-align: right;\n",
       "    }\n",
       "</style>\n",
       "<table border=\"1\" class=\"dataframe\">\n",
       "  <thead>\n",
       "    <tr style=\"text-align: right;\">\n",
       "      <th></th>\n",
       "      <th>Conductance</th>\n",
       "    </tr>\n",
       "  </thead>\n",
       "  <tbody>\n",
       "    <tr>\n",
       "      <th>Layer_out</th>\n",
       "      <td>21.87</td>\n",
       "    </tr>\n",
       "    <tr>\n",
       "      <th>Layer_in</th>\n",
       "      <td>567.00</td>\n",
       "    </tr>\n",
       "    <tr>\n",
       "      <th>Glass</th>\n",
       "      <td>630.00</td>\n",
       "    </tr>\n",
       "  </tbody>\n",
       "</table>\n",
       "</div>"
      ],
      "text/plain": [
       "           Conductance\n",
       "Layer_out        21.87\n",
       "Layer_in        567.00\n",
       "Glass           630.00"
      ]
     },
     "execution_count": 7,
     "metadata": {},
     "output_type": "execute_result"
    }
   ],
   "source": [
    "\n",
    "# Conduction\n",
    "G_cd = wall['Conductivity'] / wall['Width'] * wall['Surface']\n",
    "pd.DataFrame(G_cd, columns={'Conductance'})"
   ]
  },
  {
   "cell_type": "markdown",
   "id": "3a98ecf9",
   "metadata": {},
   "source": [
    "#### Convection\n",
    "The conductances of the walls and the glasses are convection conductances. Convection conductances, in W/K, are of the form:\n",
    "$$G_{cv} = {h S}$$\n",
    "where:\n",
    "- $h$ is the convection coefficient, W/(m²⋅K);\n",
    "- $S$ - surface area of the wall, m². "
   ]
  },
  {
   "cell_type": "code",
   "execution_count": 8,
   "id": "681f2155",
   "metadata": {},
   "outputs": [
    {
     "name": "stdout",
     "output_type": "stream",
     "text": [
      "Gw =       in   out\n",
      "h  972.0  2025 W/K\n"
     ]
    }
   ],
   "source": [
    "# Convection wall\n",
    "Gw = h * wall['Surface'][0]     # wall\n",
    "print(f'Gw = {Gw} W/K')"
   ]
  },
  {
   "cell_type": "code",
   "execution_count": 9,
   "id": "ff13269e",
   "metadata": {},
   "outputs": [
    {
     "name": "stdout",
     "output_type": "stream",
     "text": [
      "Gg =       in  out\n",
      "h  216.0  450 W/K\n"
     ]
    }
   ],
   "source": [
    "# Convection glass\n",
    "Gg = h * wall['Surface'][2]     # glass\n",
    "print(f'Gg = {Gg} W/K')"
   ]
  },
  {
   "cell_type": "code",
   "execution_count": 10,
   "id": "5f75f2a2",
   "metadata": {
    "scrolled": true
   },
   "outputs": [
    {
     "name": "stdout",
     "output_type": "stream",
     "text": [
      "Fwg = 0.2222222222222222\n"
     ]
    }
   ],
   "source": [
    "# Long wave radiation\n",
    "\n",
    "# view factor wall-glass\n",
    "Fwg = glass['Surface'] / concrete['Surface']\n",
    "print(f'Fwg = {Fwg}')"
   ]
  },
  {
   "cell_type": "markdown",
   "id": "56b2eafa",
   "metadata": {},
   "source": [
    "As explained before we do not need these factors because it is included in the value of h_in"
   ]
  },
  {
   "cell_type": "markdown",
   "id": "e603641b",
   "metadata": {},
   "source": [
    "#### Advection\n",
    "\n",
    "The volumetric flow rate of the air, in m³/s, is:\n",
    "\n",
    "$$\\dot{V}_a = \\frac{\\mathrm{ACH}}{3600} V_a$$\n",
    "\n",
    "where:\n",
    "- $\\mathrm{ACH}$  (air changes per hour) is the air infiltration rate, 1/h;\n",
    "- $3600$ - number of seconds in one hour, s/h;\n",
    "- $V_a$ - volume of the air in the thermal zone, m³."
   ]
  },
  {
   "cell_type": "code",
   "execution_count": 11,
   "id": "143bb254",
   "metadata": {},
   "outputs": [
    {
     "name": "stdout",
     "output_type": "stream",
     "text": [
      "Va_dot = 0.0075 m³/s\n"
     ]
    }
   ],
   "source": [
    "# ventilation flow rate\n",
    "Va = l**3                   # m³, volume of air\n",
    "ACH = 1                     # air changes per hour\n",
    "Va_dot = ACH / 3600 * Va    # m³/s, air infiltration\n",
    "print(f'Va_dot = {Va_dot} m³/s')"
   ]
  },
  {
   "cell_type": "markdown",
   "id": "64b9370f",
   "metadata": {},
   "source": [
    "The conductance of advection by ventilation and/or infiltration, in W/K, is:\n",
    "\n",
    "$$G_v = \\rho_a c_a \\dot{V}_a$$"
   ]
  },
  {
   "cell_type": "code",
   "execution_count": 12,
   "id": "9a08d9df",
   "metadata": {},
   "outputs": [
    {
     "name": "stdout",
     "output_type": "stream",
     "text": [
      "Gv = 9.0 W/K\n"
     ]
    }
   ],
   "source": [
    "# ventilation & advection\n",
    "Gv = air['Density'] * air['Specific heat'] * Va_dot\n",
    "print(f'Gv = {Gv} W/K')"
   ]
  },
  {
   "cell_type": "markdown",
   "id": "2220c6db",
   "metadata": {},
   "source": [
    "#### Proportional controller\n",
    "\n",
    "In the simplest representation, the HVAC systemcan be considered as a proportional controller that adjusts the heat flow rate $q_{HVAC}$ in order to control the indoor temperature $\\theta_i$ at its setpoint value $T_{i,sp}$. The heat flow-rate, in W, injected by the HVAC system into the controlled space is:\n",
    "\n",
    "$$ q_{HVAC} = K_p (T_{i, sp} - \\theta_i)$$\n",
    "\n",
    "where:\n",
    "- $K_p$ is the proportional gain, W/K;\n",
    "- $T_{i, sp}$ - indoor temperature setpoint, °C ;\n",
    "- $\\theta_i$ - indoor temperature, °C.\n",
    "\n",
    "This equation shows that the proportional controller can be modelled by a source of temperature, $T_{i, sp}$, and a conductance, $K_p$. If the controller gain tends towards:\n",
    "- infinity, $K_p \\rightarrow \\infty$, then the controller is perfect, $\\theta_i \\rightarrow T_{i, sp}$.\n",
    "- zero, $K_p \\rightarrow 0$, then the controller is not acting and the building is in free-running, i.e. $q_{HVAC} = 0$ .\n"
   ]
  },
  {
   "cell_type": "code",
   "execution_count": 13,
   "id": "e3c85755",
   "metadata": {},
   "outputs": [],
   "source": [
    "# Proportionnal Controller\n",
    "# P-controler gain\n",
    "Kp = 1e6            # almost perfect controller Kp -> ∞\n",
    "#Kp = 1e-3           # no controller Kp -> 0\n",
    "#Kp = 0"
   ]
  },
  {
   "cell_type": "markdown",
   "id": "141fe7bc",
   "metadata": {},
   "source": [
    "## Thermal Capacities\n",
    "#### Walls\n",
    "The thermal capacities of the wall, in J/kg, are:\n",
    "\n",
    "$$C_w= m_w c_w= \\rho_w c_w w_w S_w$$\n",
    "\n",
    "where:\n",
    "- $m_w = \\rho_w w_w S_w$ is the mass of the wall, kg;\n",
    "- $c_w$ - specific heat capacity, J/(kg⋅K);\n",
    "- $\\rho_w$ - density, kg/m³;\n",
    "- $w_w$ - width of the wall, m;\n",
    "- $S_w$ - surface area of the wall, m².\n",
    "\n",
    "#### Air\n",
    "Similarly, the thermal capacity of the air, in J/kg, is:\n",
    "\n",
    "$$C_a = m_a c_a = \\rho_a c_a V_a$$\n",
    "\n",
    "where:\n",
    "- $m_a = \\rho_a V_a$ is the mass of the air, kg;\n",
    "- $\\rho_w$ - density of air, kg/m³;\n",
    "- $c_a$ - specific heat capacity of the air, J/(kg⋅K);\n",
    "- $V_a$ - volume of the air in the thermal zone, m³."
   ]
  },
  {
   "cell_type": "code",
   "execution_count": 14,
   "id": "371d9969",
   "metadata": {},
   "outputs": [
    {
     "data": {
      "text/html": [
       "<div>\n",
       "<style scoped>\n",
       "    .dataframe tbody tr th:only-of-type {\n",
       "        vertical-align: middle;\n",
       "    }\n",
       "\n",
       "    .dataframe tbody tr th {\n",
       "        vertical-align: top;\n",
       "    }\n",
       "\n",
       "    .dataframe thead th {\n",
       "        text-align: right;\n",
       "    }\n",
       "</style>\n",
       "<table border=\"1\" class=\"dataframe\">\n",
       "  <thead>\n",
       "    <tr style=\"text-align: right;\">\n",
       "      <th></th>\n",
       "      <th>Capacity</th>\n",
       "    </tr>\n",
       "  </thead>\n",
       "  <tbody>\n",
       "    <tr>\n",
       "      <th>Layer_out</th>\n",
       "      <td>539055.0</td>\n",
       "    </tr>\n",
       "    <tr>\n",
       "      <th>Layer_in</th>\n",
       "      <td>34214400.0</td>\n",
       "    </tr>\n",
       "    <tr>\n",
       "      <th>Glass</th>\n",
       "      <td>2178000.0</td>\n",
       "    </tr>\n",
       "    <tr>\n",
       "      <th>Air</th>\n",
       "      <td>32400.0</td>\n",
       "    </tr>\n",
       "  </tbody>\n",
       "</table>\n",
       "</div>"
      ],
      "text/plain": [
       "             Capacity\n",
       "Layer_out    539055.0\n",
       "Layer_in   34214400.0\n",
       "Glass       2178000.0\n",
       "Air           32400.0"
      ]
     },
     "execution_count": 14,
     "metadata": {},
     "output_type": "execute_result"
    }
   ],
   "source": [
    "C = wall['Density'] * wall['Specific heat'] * wall['Surface'] * wall['Width']\n",
    "C['Air'] = air['Density'] * air['Specific heat'] * Va\n",
    "pd.DataFrame(C, columns={'Capacity'})"
   ]
  },
  {
   "cell_type": "markdown",
   "id": "59214b2d",
   "metadata": {},
   "source": [
    "## System of algebraic_differential equations (DAE)\n",
    "### A : Incident Matrix\n",
    "\n",
    "The incidence matrix is:\n",
    "\n",
    "$A_{kl} = \\begin{cases}\\phantom{-}\n",
    "0 & \\text{if branch } q_k \\text{ is not connected to node }  \\theta_l \\\\ \n",
    "+1 & \\text{if branch } q_k \\text{ enters into node }  \\theta_l\\\\ \n",
    "-1 & \\text{if branch } q_k \\text{ gets out of node }  \\theta_l \n",
    "\\end{cases}$"
   ]
  },
  {
   "cell_type": "code",
   "execution_count": 15,
   "id": "07a3071d",
   "metadata": {},
   "outputs": [],
   "source": [
    "A = np.zeros([18, 11])       # n° of branches X n° of nodes\n",
    "A[0, 0] = 1                 # branch 0: -> node 0\n",
    "A[1, 0], A[1, 1] = -1, 1    # branch 1: node 0 -> node 1\n",
    "A[2, 1], A[2, 2] = -1, 1    # branch 2: node 1 -> node 2\n",
    "A[3, 2], A[3, 3] = -1, 1    # branch 3: node 2 -> node 3\n",
    "A[4, 3], A[4, 4] = -1, 1    # branch 4: node 3 -> node 4\n",
    "A[5, 4], A[5, 5] = -1, 1    # branch 5: node 4 -> node 5\n",
    "A[6, 5], A[6, 6] = -1, 1    # branch 6: node 5 -> node 6\n",
    "A[7, 6], A[7, 7] = -1, 1    # branch 7: node 6 -> node 7\n",
    "A[8, 7], A[8, 8]= 1, -1     # branch 8: node 7 -> node 8\n",
    "A[9, 8]= 1                 # branch 9: -> node 8\n",
    "A[10, 7], A[10, 9]= -1, 1   # branch 10: node 7 -> node 9\n",
    "A[11, 9], A[11, 6]= 1, -1   # branch 11: node 9 -> node 6\n",
    "A[12, 10], A[12, 2]= -1, 1  # branch 12: node 10-> node 2\n",
    "A[13, 1], A[13, 10]= -1, 1  # branch 13: node 1 -> node 10\n",
    "A[14, 10] = 1               # branch 14: -> node 10\n",
    "A[15, 10] = 1               # branch 15: -> node 10\n",
    "A[16, 9] = 1                # branch 16: -> node 9\n",
    "A[17, 9] = 1                # branch 17: -> node 9\n",
    "\n",
    "# np.set_printoptions(suppress=False)\n",
    "# pd.DataFrame(A)"
   ]
  },
  {
   "cell_type": "markdown",
   "id": "73292909",
   "metadata": {},
   "source": [
    "### G : Incident Matrix\n",
    "\n",
    "The conductance matrix of the themal circuit is diagonal where : "
   ]
  },
  {
   "cell_type": "code",
   "execution_count": 16,
   "id": "89873158",
   "metadata": {},
   "outputs": [
    {
     "name": "stdout",
     "output_type": "stream",
     "text": [
      "G =  [[2.2500e+02 0.0000e+00 0.0000e+00 0.0000e+00 0.0000e+00 0.0000e+00\n",
      "  0.0000e+00 0.0000e+00 0.0000e+00 0.0000e+00 0.0000e+00 0.0000e+00\n",
      "  0.0000e+00 0.0000e+00 0.0000e+00 0.0000e+00 0.0000e+00 0.0000e+00]\n",
      " [0.0000e+00 3.1500e+02 0.0000e+00 0.0000e+00 0.0000e+00 0.0000e+00\n",
      "  0.0000e+00 0.0000e+00 0.0000e+00 0.0000e+00 0.0000e+00 0.0000e+00\n",
      "  0.0000e+00 0.0000e+00 0.0000e+00 0.0000e+00 0.0000e+00 0.0000e+00]\n",
      " [0.0000e+00 0.0000e+00 0.0000e+00 0.0000e+00 0.0000e+00 0.0000e+00\n",
      "  0.0000e+00 0.0000e+00 0.0000e+00 0.0000e+00 0.0000e+00 0.0000e+00\n",
      "  0.0000e+00 0.0000e+00 0.0000e+00 0.0000e+00 0.0000e+00 0.0000e+00]\n",
      " [0.0000e+00 0.0000e+00 0.0000e+00 2.8350e+02 0.0000e+00 0.0000e+00\n",
      "  0.0000e+00 0.0000e+00 0.0000e+00 0.0000e+00 0.0000e+00 0.0000e+00\n",
      "  0.0000e+00 0.0000e+00 0.0000e+00 0.0000e+00 0.0000e+00 0.0000e+00]\n",
      " [0.0000e+00 0.0000e+00 0.0000e+00 0.0000e+00 2.8350e+02 0.0000e+00\n",
      "  0.0000e+00 0.0000e+00 0.0000e+00 0.0000e+00 0.0000e+00 0.0000e+00\n",
      "  0.0000e+00 0.0000e+00 0.0000e+00 0.0000e+00 0.0000e+00 0.0000e+00]\n",
      " [0.0000e+00 0.0000e+00 0.0000e+00 0.0000e+00 0.0000e+00 1.0935e+01\n",
      "  0.0000e+00 0.0000e+00 0.0000e+00 0.0000e+00 0.0000e+00 0.0000e+00\n",
      "  0.0000e+00 0.0000e+00 0.0000e+00 0.0000e+00 0.0000e+00 0.0000e+00]\n",
      " [0.0000e+00 0.0000e+00 0.0000e+00 0.0000e+00 0.0000e+00 0.0000e+00\n",
      "  1.0935e+01 0.0000e+00 0.0000e+00 0.0000e+00 0.0000e+00 0.0000e+00\n",
      "  0.0000e+00 0.0000e+00 0.0000e+00 0.0000e+00 0.0000e+00 0.0000e+00]\n",
      " [0.0000e+00 0.0000e+00 0.0000e+00 0.0000e+00 0.0000e+00 0.0000e+00\n",
      "  0.0000e+00 0.0000e+00 0.0000e+00 0.0000e+00 0.0000e+00 0.0000e+00\n",
      "  0.0000e+00 0.0000e+00 0.0000e+00 0.0000e+00 0.0000e+00 0.0000e+00]\n",
      " [0.0000e+00 0.0000e+00 0.0000e+00 0.0000e+00 0.0000e+00 0.0000e+00\n",
      "  0.0000e+00 0.0000e+00 3.1500e+02 0.0000e+00 0.0000e+00 0.0000e+00\n",
      "  0.0000e+00 0.0000e+00 0.0000e+00 0.0000e+00 0.0000e+00 0.0000e+00]\n",
      " [0.0000e+00 0.0000e+00 0.0000e+00 0.0000e+00 0.0000e+00 0.0000e+00\n",
      "  0.0000e+00 0.0000e+00 0.0000e+00 2.2500e+02 0.0000e+00 0.0000e+00\n",
      "  0.0000e+00 0.0000e+00 0.0000e+00 0.0000e+00 0.0000e+00 0.0000e+00]\n",
      " [0.0000e+00 0.0000e+00 0.0000e+00 0.0000e+00 0.0000e+00 0.0000e+00\n",
      "  0.0000e+00 0.0000e+00 0.0000e+00 0.0000e+00 1.0800e+02 0.0000e+00\n",
      "  0.0000e+00 0.0000e+00 0.0000e+00 0.0000e+00 0.0000e+00 0.0000e+00]\n",
      " [0.0000e+00 0.0000e+00 0.0000e+00 0.0000e+00 0.0000e+00 0.0000e+00\n",
      "  0.0000e+00 0.0000e+00 0.0000e+00 0.0000e+00 0.0000e+00 4.8600e+02\n",
      "  0.0000e+00 0.0000e+00 0.0000e+00 0.0000e+00 0.0000e+00 0.0000e+00]\n",
      " [0.0000e+00 0.0000e+00 0.0000e+00 0.0000e+00 0.0000e+00 0.0000e+00\n",
      "  0.0000e+00 0.0000e+00 0.0000e+00 0.0000e+00 0.0000e+00 0.0000e+00\n",
      "  4.8600e+02 0.0000e+00 0.0000e+00 0.0000e+00 0.0000e+00 0.0000e+00]\n",
      " [0.0000e+00 0.0000e+00 0.0000e+00 0.0000e+00 0.0000e+00 0.0000e+00\n",
      "  0.0000e+00 0.0000e+00 0.0000e+00 0.0000e+00 0.0000e+00 0.0000e+00\n",
      "  0.0000e+00 1.0800e+02 0.0000e+00 0.0000e+00 0.0000e+00 0.0000e+00]\n",
      " [0.0000e+00 0.0000e+00 0.0000e+00 0.0000e+00 0.0000e+00 0.0000e+00\n",
      "  0.0000e+00 0.0000e+00 0.0000e+00 0.0000e+00 0.0000e+00 0.0000e+00\n",
      "  0.0000e+00 0.0000e+00 9.0000e+00 0.0000e+00 0.0000e+00 0.0000e+00]\n",
      " [0.0000e+00 0.0000e+00 0.0000e+00 0.0000e+00 0.0000e+00 0.0000e+00\n",
      "  0.0000e+00 0.0000e+00 0.0000e+00 0.0000e+00 0.0000e+00 0.0000e+00\n",
      "  0.0000e+00 0.0000e+00 0.0000e+00 1.0000e+06 0.0000e+00 0.0000e+00]\n",
      " [0.0000e+00 0.0000e+00 0.0000e+00 0.0000e+00 0.0000e+00 0.0000e+00\n",
      "  0.0000e+00 0.0000e+00 0.0000e+00 0.0000e+00 0.0000e+00 0.0000e+00\n",
      "  0.0000e+00 0.0000e+00 0.0000e+00 0.0000e+00 1.0000e+06 0.0000e+00]\n",
      " [0.0000e+00 0.0000e+00 0.0000e+00 0.0000e+00 0.0000e+00 0.0000e+00\n",
      "  0.0000e+00 0.0000e+00 0.0000e+00 0.0000e+00 0.0000e+00 0.0000e+00\n",
      "  0.0000e+00 0.0000e+00 0.0000e+00 0.0000e+00 0.0000e+00 9.0000e+00]]\n"
     ]
    }
   ],
   "source": [
    "G = np.zeros([18, 18])       # n° of branches X n° of nodes\n",
    "G[0, 0] = (h['out']*glass['Surface'])/2                \n",
    "G[1, 1] = (glass['Conductivity']*glass['Surface']/2)/glass['Width']\n",
    "G[2, 2] = 0\n",
    "G[3, 3] = (concrete['Conductivity']*concrete['Surface']/2)/concrete['Width']\n",
    "G[4, 4] = (concrete['Conductivity']*concrete['Surface']/2)/concrete['Width']              \n",
    "G[5, 5] = (insulation['Conductivity']*insulation['Surface']/2)/insulation['Width']\n",
    "G[6, 6] = (insulation['Conductivity']*insulation['Surface']/2)/insulation['Width']\n",
    "G[7, 7] = 0\n",
    "G[8, 8] = (glass['Conductivity']*glass['Surface']/2)/glass['Width']                  \n",
    "G[9, 9] = (h['out']*glass['Surface'])/2 \n",
    "G[10, 10] = (h['in']*glass['Surface'])/2  \n",
    "G[11, 11] = (h['in']*concrete['Surface'])/2 \n",
    "G[12, 12] = (h['in']*concrete['Surface'])/2                   \n",
    "G[13, 13] = (h['in']*glass['Surface'])/2 \n",
    "G[14, 14] = Gv \n",
    "G[15, 15] = Kp\n",
    "G[16, 16] = Kp                  \n",
    "G[17, 17] = Gv\n",
    "print(f'G = ', G)"
   ]
  },
  {
   "cell_type": "markdown",
   "id": "791c0ce8",
   "metadata": {},
   "source": [
    "### C : Capacity Matrix\n",
    "\n",
    "The capacity matrix of the themal circuit  is diagonal:\n",
    "\n",
    "$ C = \\begin{cases}\n",
    "C_{0,0} = C_{Glass} & \\text{glass of the windows}\\\\ \n",
    "C_{3,3} = C_{Layer\\,out} & \\text{outer layer of the wall}\\\\\n",
    "C_{5,5} = C_{Layer\\,in} & \\text{inner layer of the wall}\\\\ \n",
    "C_{8,8} = C_{Glass} & \\text{glass of the windows}\\\\\n",
    "C_{9,9} = C_{Air} & \\text{air of the room}\\\\\n",
    "C_{10,10} = C_{Air} & \\text{air of the room}\\\\\n",
    "\\end{cases}$\n",
    "\n",
    "The thermal capacities of the air and of the glass can be neglected or not."
   ]
  },
  {
   "cell_type": "code",
   "execution_count": 17,
   "id": "0eb07633",
   "metadata": {},
   "outputs": [
    {
     "name": "stdout",
     "output_type": "stream",
     "text": [
      "C =  [[       0.        0.        0.        0.        0.        0.        0.\n",
      "         0.        0.        0.        0.]\n",
      " [       0.        0.        0.        0.        0.        0.        0.\n",
      "         0.        0.        0.        0.]\n",
      " [       0.        0.        0.        0.        0.        0.        0.\n",
      "         0.        0.        0.        0.]\n",
      " [       0.        0.        0.   539055.        0.        0.        0.\n",
      "         0.        0.        0.        0.]\n",
      " [       0.        0.        0.        0.        0.        0.        0.\n",
      "         0.        0.        0.        0.]\n",
      " [       0.        0.        0.        0.        0. 34214400.        0.\n",
      "         0.        0.        0.        0.]\n",
      " [       0.        0.        0.        0.        0.        0.        0.\n",
      "         0.        0.        0.        0.]\n",
      " [       0.        0.        0.        0.        0.        0.        0.\n",
      "         0.        0.        0.        0.]\n",
      " [       0.        0.        0.        0.        0.        0.        0.\n",
      "         0.        0.        0.        0.]\n",
      " [       0.        0.        0.        0.        0.        0.        0.\n",
      "         0.        0.        0.        0.]\n",
      " [       0.        0.        0.        0.        0.        0.        0.\n",
      "         0.        0.        0.        0.]]\n"
     ]
    }
   ],
   "source": [
    "neglect_air_glass = True\n",
    "\n",
    "if neglect_air_glass:\n",
    "    C = np.diag([0, 0, 0, C['Layer_out'], 0, C['Layer_in'], 0, 0,\n",
    "                 0, 0, 0])\n",
    "else:\n",
    "    C = np.diag([C['Glass'], 0, 0, C['Layer_out'], 0, C['Layer_in'], 0, 0, C['Glass'],\n",
    "                 C['Air'], C['Air']])\n",
    "\n",
    "print(f'C = ', C)\n",
    "# pd.set_option(\"display.precision\", 3)\n",
    "# pd.DataFrame(C)"
   ]
  },
  {
   "cell_type": "markdown",
   "id": "e08a1ad8",
   "metadata": {},
   "source": [
    "### b : temperature source vector \n",
    "\n",
    "For the thermal,\n",
    "\n",
    "$$b = [\\begin{matrix}\n",
    "T_o &0  &0  &0  &0  &0  &0  &0  &0  &T_o  &0  &0  &0  &0  &T_o  &T_{i,sp}  &T_{i,sp}  &T_o \n",
    "\\end{matrix}]^T$$\n",
    "\n",
    "where:\n",
    "- $T_o$ is the outdoor temperature, °C;\n",
    "- $T_{i,sp}$ - set-point temperaure for the indoor air, °C.\n",
    "\n",
    "Since the temperature sorces $T_o$ and $T_{i,sp}$ are time series, in vector $b$ the branches which contain temperature sources are designated by $1$ and the branches without any temeprature source by $0$."
   ]
  },
  {
   "cell_type": "code",
   "execution_count": 18,
   "id": "213fc011",
   "metadata": {},
   "outputs": [
    {
     "name": "stdout",
     "output_type": "stream",
     "text": [
      "b =  [1. 0. 0. 0. 0. 0. 0. 0. 0. 1. 0. 0. 0. 0. 1. 1. 1. 1.]\n"
     ]
    }
   ],
   "source": [
    "b = np.zeros(18)        # branches\n",
    "b[[0, 9, 14, 15, 16, 17]] = 1   # branches with temperature sources\n",
    "print(f'b = ', b)"
   ]
  },
  {
   "cell_type": "markdown",
   "id": "4186422d",
   "metadata": {},
   "source": [
    "### f : heat flow source  vector \n",
    "\n",
    "For the thermal circuit,\n",
    "\n",
    "$$f = [\\begin{matrix}\n",
    "\\Phi_a &0 &\\Phi_i &0  &0  &0  &\\Phi_i  &0  &\\Phi_a  &\\dot{Q_a} &\\dot{Q_a} \n",
    "\\end{matrix}]^T$$\n",
    "\n",
    "where:\n",
    "- $\\Phi_o$ - solar radiation absorbed by the outdoor surface of the wall, W;\n",
    "- $\\Phi_i$ - solar radiation absorbed by the indoor surface of the wall, W;\n",
    "- $\\dot{Q}_a$ - auxiliary heat gains (i.e., occupants, electrical devices, etc.), W;\n",
    "- $\\Phi_a$ - solar radiation absorbed by the glass, W.\n",
    "\n",
    "Since the flow rate sorces $\\Phi_o$, $\\Phi_i$, $\\dot{Q}_a$ and $\\Phi_a$ are time series, in vector $f$ the nodes which contain flow rate sources are designated by $1$ and the  nodes without any flow rate source by $0$."
   ]
  },
  {
   "cell_type": "code",
   "execution_count": 19,
   "id": "7ce275aa",
   "metadata": {},
   "outputs": [
    {
     "name": "stdout",
     "output_type": "stream",
     "text": [
      "f =  [1. 0. 1. 0. 0. 0. 1. 0. 1. 1. 1.]\n"
     ]
    }
   ],
   "source": [
    "f = np.zeros(11)         # nodes\n",
    "f[[0, 2, 6, 8, 9, 10]] = 1     # nodes with heat-flow sources\n",
    "print(f'f = ', f)"
   ]
  },
  {
   "cell_type": "markdown",
   "id": "908104c3",
   "metadata": {},
   "source": [
    "### y : output vector \n",
    "\n",
    "The vector of outputs is $y$, of size $n_{\\theta}$, the number of nodes. The non-zero values of $y$ indicate the nodes which are the outputs of the model.\n",
    "\n",
    "For the thermal circuit, if the output is the indoor air temperature, then the output vector is:\n",
    "\n",
    "$$y = [\\begin{matrix}\n",
    "0  &0  &0  &0  &0  &0  &0  &0  &0  &\\theta_9 &\\theta_{10} \n",
    "\\end{matrix}]^T$$\n",
    "\n",
    "In vector $y$, the nodes for which the temperatures are outputs are noted by $1$ and the other nodes by $0$."
   ]
  },
  {
   "cell_type": "code",
   "execution_count": 20,
   "id": "3827a0db",
   "metadata": {},
   "outputs": [
    {
     "name": "stdout",
     "output_type": "stream",
     "text": [
      "y =  [0. 0. 0. 0. 0. 0. 0. 0. 0. 1. 1.]\n"
     ]
    }
   ],
   "source": [
    "y = np.zeros(11)         # nodes\n",
    "y[[9, 10]] = 1              # nodes (temperatures) of interest\n",
    "print(f'y = ', y)"
   ]
  },
  {
   "cell_type": "markdown",
   "id": "97e1495c",
   "metadata": {},
   "source": [
    "## State-space representation\n",
    "\n",
    "The differential-algebraic system of equations (DAE)\n",
    "\n",
    "$$C \\dot{\\theta} = -(A^T G A) \\theta + A^T G b + f$$\n",
    "\n",
    "is transformed in state-space representation:\n",
    "\n",
    "$$\\left\\{\\begin{array}{rr}\n",
    "\\dot{\\theta}_s=A_s \\theta_s + B_s u\\\\ \n",
    "y = C_s \\theta_s + D_s u\n",
    "\\end{array}\\right.$$\n"
   ]
  },
  {
   "cell_type": "code",
   "execution_count": 21,
   "id": "99fba495",
   "metadata": {},
   "outputs": [
    {
     "name": "stdout",
     "output_type": "stream",
     "text": [
      "As = \n",
      " [[-3.51632886e-04  1.95321179e-05]\n",
      " [ 3.07732587e-07 -6.20298705e-07]] \n",
      "\n",
      "Bs = \n",
      " [[1.96748470e-08 0.00000000e+00 2.98870294e-09 3.32078105e-04\n",
      "  0.00000000e+00 0.00000000e+00 8.74437643e-11 6.83666992e-07\n",
      "  0.00000000e+00 0.00000000e+00 0.00000000e+00 3.32078105e-10]\n",
      " [0.00000000e+00 1.85175438e-11 0.00000000e+00 0.00000000e+00\n",
      "  3.12544787e-07 2.81290308e-12 0.00000000e+00 0.00000000e+00\n",
      "  6.43452704e-10 8.23001947e-14 3.12544787e-13 0.00000000e+00]] \n",
      "\n",
      "Cs = \n",
      " [[0.00000000e+00 1.06935324e-05]\n",
      " [1.79008363e-04 0.00000000e+00]] \n",
      "\n",
      "Ds = \n",
      " [[0.00000000e+00 5.92429721e-05 0.00000000e+00 0.00000000e+00\n",
      "  9.99921064e-01 8.99928958e-06 0.00000000e+00 0.00000000e+00\n",
      "  9.77917911e-07 2.63302098e-07 9.99921064e-07 0.00000000e+00]\n",
      " [5.92330006e-05 0.00000000e+00 8.99777485e-06 9.99752761e-01\n",
      "  0.00000000e+00 0.00000000e+00 2.63257780e-07 6.31422796e-07\n",
      "  0.00000000e+00 0.00000000e+00 0.00000000e+00 9.99752761e-07]] \n",
      "\n"
     ]
    }
   ],
   "source": [
    "[As, Bs, Cs, Ds] = dm4bem.tc2ss(A, G, b, C, f, y)\n",
    "print('As = \\n', As, '\\n')\n",
    "print('Bs = \\n', Bs, '\\n')\n",
    "print('Cs = \\n', Cs, '\\n')\n",
    "print('Ds = \\n', Ds, '\\n')"
   ]
  },
  {
   "cell_type": "markdown",
   "id": "739551c4",
   "metadata": {},
   "source": [
    "### Steady State"
   ]
  },
  {
   "cell_type": "markdown",
   "id": "25c1587b",
   "metadata": {},
   "source": [
    "First we are going to check the model in steady state to see if it is correct.\n",
    "We are going to consider that : \n",
    "\n",
    "- The controller is not active, $K_p \\rightarrow 0$,\n",
    "- The outdoor temperature is $T_o = 10 \\, \\mathrm{^\\circ C}$,\n",
    "- The indoor temperature setpoint is $T_{i,sp} = 20 \\, \\mathrm{^\\circ C}$,\n",
    "- All flow rate sources are zero."
   ]
  },
  {
   "cell_type": "code",
   "execution_count": 22,
   "id": "84f8da07",
   "metadata": {},
   "outputs": [
    {
     "name": "stdout",
     "output_type": "stream",
     "text": [
      "b =  [10.  0.  0.  0.  0.  0.  0.  0.  0. 10.  0.  0.  0.  0. 10. 20. 20. 10.]\n",
      "f =  [0. 0. 0. 0. 0. 0. 0. 0. 0. 0. 0.]\n"
     ]
    }
   ],
   "source": [
    "b = np.zeros(18)        # temperature sources\n",
    "b[[0, 9, 14, 17]] = 10      # outdoor temperature\n",
    "b[[15, 16]] = 20            # indoor set-point temperature\n",
    "print(f'b = ', b)\n",
    "\n",
    "f = np.zeros(11)         # flow-rate sources\n",
    "print(f'f = ', f)"
   ]
  },
  {
   "cell_type": "markdown",
   "id": "386c86d3",
   "metadata": {},
   "source": [
    "### System of Differential Algebraic Equations (DAE)\n",
    "The value of temperature in steady-state is obtained from the system of DAE by considering that $C \\dot{\\theta} = 0$ , then we have : $$\\theta_{ss} = (A^T G A)^{-1}(A^T G b + f)$$"
   ]
  },
  {
   "cell_type": "code",
   "execution_count": 23,
   "id": "133c0ad8",
   "metadata": {},
   "outputs": [
    {
     "name": "stdout",
     "output_type": "stream",
     "text": [
      "θ = [12.63304914 14.51379853 19.99931757 19.99931757 19.99931757 19.99931757\n",
      " 19.99931757 14.51379853 12.63304914 19.99931757 19.99931757] °C\n"
     ]
    }
   ],
   "source": [
    "θ = np.linalg.inv(A.T @ G @ A) @ (A.T @ G @ b + f)\n",
    "print(f'θ = {θ} °C')"
   ]
  },
  {
   "cell_type": "code",
   "execution_count": 24,
   "id": "678acd8a",
   "metadata": {},
   "outputs": [
    {
     "name": "stdout",
     "output_type": "stream",
     "text": [
      "As = \n",
      " [[-3.51632886e-04  1.95321179e-05]\n",
      " [ 3.07732587e-07 -6.20298705e-07]] \n",
      "\n",
      "Bs = \n",
      " [[1.96748470e-08 0.00000000e+00 2.98870294e-09 3.32078105e-04\n",
      "  0.00000000e+00 0.00000000e+00]\n",
      " [0.00000000e+00 1.85175438e-11 0.00000000e+00 0.00000000e+00\n",
      "  3.12544787e-07 2.81290308e-12]] \n",
      "\n",
      "Cs = \n",
      " [[0.00000000e+00 1.06935324e-05]\n",
      " [1.79008363e-04 0.00000000e+00]] \n",
      "\n",
      "Ds = \n",
      " [[0.00000000e+00 5.92429721e-05 0.00000000e+00 0.00000000e+00\n",
      "  9.99921064e-01 8.99928958e-06]\n",
      " [5.92330006e-05 0.00000000e+00 8.99777485e-06 9.99752761e-01\n",
      "  0.00000000e+00 0.00000000e+00]] \n",
      "\n"
     ]
    }
   ],
   "source": [
    "[As, Bs, Cs, Ds] = dm4bem.tc2ss(A, G, b, C, f, y)\n",
    "print('As = \\n', As, '\\n')\n",
    "print('Bs = \\n', Bs, '\\n')\n",
    "print('Cs = \\n', Cs, '\\n')\n",
    "print('Ds = \\n', Ds, '\\n')"
   ]
  },
  {
   "cell_type": "markdown",
   "id": "c5bfc1cd",
   "metadata": {},
   "source": [
    "### State-space representation\n",
    "The input vector u is described bellow : \n",
    "$$\n",
    "u = \\begin{bmatrix}\n",
    "b_T \\\\\n",
    "f_Q\n",
    "\\end{bmatrix}\n",
    "$$\n",
    "\n",
    "where:\n",
    "- $b_T$ is a vector of the nonzero elements of vector $b$ of temperature sources. \n",
    "    - $b_T = [T_o, T_o, T_o, T_{i,sp}, T_{i,sp},T_o]^T$ corresponding to branches 0, 9, 14, 15, 16 and 17, \n",
    "\n",
    "- $f_Q$ vector: the nonzero elements of vector $f$ of flow sources. $f_Q = [\\Phi_a, \\Phi_i, \\Phi_i, \\Phi_a, \\dot{Q}_a, \\dot{Q}_a]^T$ corresponding to nodes 0, 2, 6, 8, 9, 10 where:\n",
    "    - $\\Phi_o$: solar radiation absorbed by the outdoor surface of the wall, W;\n",
    "    - $\\Phi_i$: solar radiation absorbed by the indoor surface of the wall, W;\n",
    "    - $\\dot{Q}_a$: auxiliary heat gains (i.e., occupants, electrical devices, etc.), W;\n",
    "    - $\\Phi_a$: solar radiation absorbed by the glass, W."
   ]
  },
  {
   "cell_type": "code",
   "execution_count": 25,
   "id": "c2d68c56",
   "metadata": {},
   "outputs": [
    {
     "name": "stdout",
     "output_type": "stream",
     "text": [
      "u = [[10  0]\n",
      " [10  0]\n",
      " [10  0]\n",
      " [20  0]\n",
      " [20  0]\n",
      " [10  0]]\n"
     ]
    }
   ],
   "source": [
    "bT = np.array([[10], [10], [10], [20], [20], [10]])     # [To, To, To, Tisp, Tisp, To]\n",
    "fQ = np.array([[0], [0], [0], [0], [0], [0]])         # [Φa, Φi, Φi, Φa, Qa, Qa]\n",
    "u = np.hstack([bT, fQ])\n",
    "print(f'u = {u}')"
   ]
  },
  {
   "cell_type": "markdown",
   "id": "2fc297c3",
   "metadata": {},
   "source": [
    "The steady-state value of the output of the state-space representation is obtained when $\\dot \\theta_{C} = 0$:\n",
    "\n",
    "$$y_{ss} = (-C_s A_s^{-1} B_s + D_s) u$$"
   ]
  },
  {
   "cell_type": "code",
   "execution_count": 26,
   "id": "b6cafda0",
   "metadata": {},
   "outputs": [
    {
     "name": "stdout",
     "output_type": "stream",
     "text": [
      "yss = [[19.99931757  0.        ]\n",
      " [19.99931757  0.        ]] °C\n"
     ]
    }
   ],
   "source": [
    "yss = (-Cs @ np.linalg.inv(As) @ Bs + Ds) @ u\n",
    "print(f'yss = {yss} °C')"
   ]
  },
  {
   "cell_type": "markdown",
   "id": "71b96d27",
   "metadata": {},
   "source": [
    "The error between the steady-state values obtained from the system of DAE, $\\theta_9$ and $\\theta_{10}$ , and the output of the state-space representation, $y_{ss}$, \n",
    "\n",
    "$$\\varepsilon_1 = \\left | \\theta_9 - y_{ss} \\right |$$\n",
    "$$\\varepsilon_2 = \\left | \\theta_{10} - y_{ss} \\right |$$\n",
    "\n",
    "is practically zero; the slight difference is due to numerical errors."
   ]
  },
  {
   "cell_type": "code",
   "execution_count": 27,
   "id": "05483ed7",
   "metadata": {},
   "outputs": [
    {
     "name": "stdout",
     "output_type": "stream",
     "text": [
      "eps1 = 3.55e-15 °C\n",
      "eps2 = 3.55e-15 °C\n",
      "Max error between DAE and state-space: 3.55e-15 °C\n"
     ]
    }
   ],
   "source": [
    "eps1=(abs(θ[9] - yss[0,0]))\n",
    "print(f'eps1 = \\\n",
    "{eps1:.2e} °C')\n",
    "eps2=(abs(θ[10] - yss[1,0]))\n",
    "print(f'eps2 = \\\n",
    "{eps2:.2e} °C')\n",
    "print(f'Max error between DAE and state-space: \\\n",
    "{max(eps1,eps2):.2e} °C')"
   ]
  },
  {
   "cell_type": "markdown",
   "id": "43ee071d",
   "metadata": {},
   "source": [
    "## Dynamic Simulation"
   ]
  },
  {
   "cell_type": "markdown",
   "id": "fa9d1e92",
   "metadata": {},
   "source": [
    "### Time Step\n",
    "To set up the time step we are going to determine the maximum time step.\n",
    "The condition for numerical stability of Euler explicit integration method is\n",
    "\n",
    "$$\\left |  \\lambda_i \\Delta t + 1 \\right | < 1, \\forall \\lambda_i, $$\n",
    "\n",
    "where:\n",
    "- $\\lambda_i$ are the eigenvalues of matrix $A_s$,\n",
    "- $\\Delta t$ - time step.\n",
    "\n",
    "For positive real eigenvalues $\\left \\{ \\lambda \\in \\Re |\\lambda >0  \\right \\}$, which is the case of thermal networks, the above condition becomes\n",
    "\n",
    "$$- \\lambda_i \\Delta t - 1  < 1, \\forall \\lambda_i, $$\n",
    "\n",
    "or\n",
    "\n",
    "$$ 0 < \\Delta t < -\\frac{2}{\\min \\lambda_i} = 2 \\min -\\frac{1}{\\lambda_i} = 2 \\min T_i$$\n",
    "\n",
    "where $T_i$ are the time constants, $T_i = - \\frac{1}{\\lambda_i} $"
   ]
  },
  {
   "cell_type": "code",
   "execution_count": 28,
   "id": "9151c758",
   "metadata": {},
   "outputs": [
    {
     "name": "stdout",
     "output_type": "stream",
     "text": [
      "Time constants : \n",
      " [   2843.73659554 1657891.61112565] s \n",
      "\n",
      "2 x Time constants : \n",
      " [   5687.47319108 3315783.22225129] s \n",
      "\n",
      "Maximum time step: 5687.473191 s = 94.791220 min\n"
     ]
    }
   ],
   "source": [
    "λ = np.linalg.eigvals(As)    # eigenvalues of matrix As\n",
    "\n",
    "print('Time constants : \\n', -1 / λ, 's \\n')\n",
    "print('2 x Time constants : \\n', -2 / λ, 's \\n')\n",
    "dtmax = 2 * min(-1. / λ)\n",
    "print(f'Maximum time step: {dtmax:.6f} s = {dtmax / 60:.6f} min')"
   ]
  },
  {
   "cell_type": "markdown",
   "id": "d05f6115",
   "metadata": {},
   "source": [
    "We will chose a time step smaller than : $\\Delta t_{\\text{max}} = \\min \\left(-\\frac{2}{\\lambda_i}\\right)$"
   ]
  },
  {
   "cell_type": "code",
   "execution_count": 29,
   "id": "11802b60",
   "metadata": {},
   "outputs": [
    {
     "name": "stdout",
     "output_type": "stream",
     "text": [
      "dt = 5640.0 s = 94 min\n"
     ]
    }
   ],
   "source": [
    "# time step\n",
    "\n",
    "dt = np.floor(dtmax / 60) * 60   # s\n",
    "print(f'dt = {dt} s = {dt / 60:.0f} min')"
   ]
  },
  {
   "cell_type": "markdown",
   "id": "0f465d35",
   "metadata": {},
   "source": [
    "We can neglect the air and glass capacity to have a relatively long time step."
   ]
  },
  {
   "cell_type": "markdown",
   "id": "d3ae0f9f",
   "metadata": {},
   "source": [
    "### Settling time\n",
    "We consider that the settling time is roughly 4 times the larger time constant."
   ]
  },
  {
   "cell_type": "code",
   "execution_count": 30,
   "id": "605c13e0",
   "metadata": {},
   "outputs": [
    {
     "name": "stdout",
     "output_type": "stream",
     "text": [
      "4 * Time constants: \n",
      " [  11372 6631564] s \n",
      "\n",
      "Settling time: 6631566 s = 110526.1 min = 1842.10 h = 76.75 days\n"
     ]
    }
   ],
   "source": [
    "# settling time\n",
    "time_const = np.array([int(x) for x in sorted(-1 / λ)])\n",
    "print('4 * Time constants: \\n', 4 * time_const, 's \\n')\n",
    "\n",
    "t_settle = 4 * max(-1 / λ)\n",
    "print(f'Settling time: \\\n",
    "{t_settle:.0f} s = \\\n",
    "{t_settle / 60:.1f} min = \\\n",
    "{t_settle / (3600):.2f} h = \\\n",
    "{t_settle / (3600 * 24):.2f} days')"
   ]
  },
  {
   "cell_type": "markdown",
   "id": "8c49e341",
   "metadata": {},
   "source": [
    "### Step response\n",
    "We are now going to determine the dynamic response of the system to a step input."
   ]
  },
  {
   "cell_type": "markdown",
   "id": "c0f1bdd6",
   "metadata": {},
   "source": [
    "#### Duration\n",
    "We pay attention to make the duration of the simulation larger than the estimated settling time. Then it will give a number of time steps in the time vector"
   ]
  },
  {
   "cell_type": "code",
   "execution_count": 31,
   "id": "3ef300c7",
   "metadata": {},
   "outputs": [
    {
     "name": "stdout",
     "output_type": "stream",
     "text": [
      "Duration = 1326960.0 s\n",
      "Number of time steps = 235\n"
     ]
    }
   ],
   "source": [
    "# Step response\n",
    "# -------------\n",
    "# Find the next multiple of 3600 s that is larger than t_settle\n",
    "duration = np.ceil(t_settle / 3600) * 3600/5\n",
    "n = int(np.floor(duration / dt))    # number of time steps\n",
    "t = np.arange(0, n * dt, dt)        # time vector for n time steps\n",
    "\n",
    "print(f'Duration = {duration} s')\n",
    "print(f'Number of time steps = {n}')\n",
    "# pd.DataFrame(t, columns=['time'])"
   ]
  },
  {
   "cell_type": "markdown",
   "id": "2e3c2a82",
   "metadata": {},
   "source": [
    "#### Input vector\n",
    "The input vector as the same shape as in the last part : \n",
    "$$\n",
    "u = \\begin{bmatrix}\n",
    "b_T \\\\\n",
    "f_Q\n",
    "\\end{bmatrix}\n",
    "$$\n"
   ]
  },
  {
   "cell_type": "code",
   "execution_count": 32,
   "id": "0f3db3b3",
   "metadata": {},
   "outputs": [],
   "source": [
    "u = np.zeros([12, n])                # u = [To To To Tisp Tisp To Φa, Φi, Φi, Φa, Qa, Qa]\n",
    "u[0:3, :] = 10 * np.ones([3, n])    # To = 10 for n time steps pr (0, 1, 2)\n",
    "u[3:5, :] = 20 * np.ones([2, n])      # Tisp = 20 for n time steps pr (3, 4)\n",
    "u[5, :] = 10 * np.ones([1, n])      # To = 10 for n time steps pr (5)\n",
    "\n",
    "# pd.DataFrame(u)"
   ]
  },
  {
   "cell_type": "markdown",
   "id": "d1c8e27b",
   "metadata": {},
   "source": [
    "In dynamic simulation, the inputs are time series, e.g., the oudoor temperature will have $n$ values $T_o = [T_{o(0)}, T_{o(1)}, ..., T_{o(n-1)}]^T$ at discrete time $t = [t_0, t_1, ... , t_{n-1}]^T$.\n",
    "\n",
    "The input vector $u$ of the state-space representation is obtained by stacking the vectors $b_T$ and $f_Q$ of the system of Differential Algebraic Equations:\n",
    "\n",
    "$$u = \\begin{bmatrix} b_T \\\\ f_Q\\end{bmatrix}$$\n",
    "\n",
    "where:\n",
    "- vector $b_T$ consists of the nonzero elements of vector $b$ of temperature sources; for the circuit presented in Figure 3, \n",
    "\n",
    "$$b = [\\begin{matrix}\n",
    "T_o &0  &0  &0  &0  &0  &0  &0  &0  &T_o  &0  &0  &0  &0  &T_o  &T_{i,sp}  &T_{i,sp}  &T_o \n",
    "\\end{matrix}]^T$$\n",
    "and \n",
    "$$b_T = [T_o, T_o, T_o, T_{i,sp} T_{i,sp} T_o]^T$$\n",
    "corresponding to branches 0, 9, 14, 15, 16 and 17; \n",
    "- vector $f_Q$ is the nonzero elements of vector $f$ of flow sources; for the circuit presented in Figure 3,\n",
    "\n",
    "$$f = [\\begin{matrix}\n",
    "\\Phi_a &0 &\\Phi_i &0  &0  &0  &\\Phi_i  &0  &\\Phi_a  &\\dot{Q_a} &\\dot{Q_a} \n",
    "\\end{matrix}]^T$$\n",
    "\n",
    "and\n",
    "\n",
    "$$f_Q = [\\Phi_a, \\Phi_i, \\Phi_i, \\Phi_a, \\dot{Q}_a, \\dot{Q}_a]^T$$\n",
    "\n",
    "corresponding to nodes 0, 2, 6, 8, 9 and 10.\n",
    "\n",
    "For the thermal circuit shown in Figure 3, the time series() of the input vector, $u = [u_0, u_1, ... , u_{n-1}]^T$, is:\n",
    "\n",
    "$$u = \n",
    "\\begin{bmatrix}\n",
    "T_o\\\\\n",
    "T_o\\\\\n",
    "T_o\\\\\n",
    "T_{i,sp}\\\\\n",
    "T_{i,sp}\\\\\n",
    "T_0\\\\\n",
    "\\Phi_a\\\\\n",
    "\\Phi_i\\\\\n",
    "\\Phi_i\\\\\n",
    "\\Phi_a\\\\\n",
    "\\dot{Q}_a\\\\\n",
    "\\dot{Q}_a\\\\\n",
    "\\end{bmatrix}\n",
    "= \\begin{bmatrix}\n",
    "T_{o(0)} & T_{o(1)}& \\dots & T_{o(n-1)}\\\\\n",
    "T_{o(0)} & T_{o(1)}& \\dots & T_{o(n-1)}\\\\\n",
    "T_{o(0)} & T_{o(1)}& \\dots & T_{o(n-1)}\\\\\n",
    "T_{i,sp(0)} & T_{i,sp(1)}& \\dots & T_{i,sp(n-1)}\\\\\n",
    "T_{i,sp(0)} & T_{i,sp(1)}& \\dots & T_{i,sp(n-1)}\\\\\n",
    "T_{o(0)} & T_{o(1)}& \\dots & T_{o(n-1)}\\\\\n",
    "\\Phi_{a,(0)} & \\Phi_{a,(1)} & \\dots & \\Phi_{a,(n-1)}\\\\\n",
    "\\Phi_{i,(0)} & \\Phi_{i,(1)} & \\dots & \\Phi_{i,(n-1)}\\\\\n",
    "\\Phi_{i,(0)} & \\Phi_{i,(1)} & \\dots & \\Phi_{i,(n-1)}\\\\\n",
    "\\dot{Q}_{a(0)} & \\dot{Q}_{a(1)} & \\dots & \\dot{Q}_{a(n-1)}\\\\\n",
    "\\dot{Q}_{a(0)} & \\dot{Q}_{a(1)} & \\dots & \\dot{Q}_{a(n-1)}\\\\\n",
    "\\end{bmatrix}$$\n",
    "\n",
    "\n",
    "where:\n",
    "- $T_o = [T_{o(0)}, T_{o(1)}, ..., T_{o(n-1)}]^T$ is the time series of the oudoor temperature at discrete time $t = [t_0, t_1, ... , t_{n-1}]^T$.\n",
    "- $T_{i, sp} = [T_{{i, sp}(0)}, T_{{i, sp}(1)}, ..., T_{{i, sp}(n-1)}]^T$ is the time series of the setpoint indoor temperature at discrete time $t = [t_0, t_1, ... , t_{n-1}]^T$.\n",
    "- $\\Phi_o = [\\Phi_{o(0)}, \\Phi_{o(1)}, ..., \\Phi_{o(n-1)}]^T$ is the time series of the solar radiation absorbed by the outdoor surface of the wall at discrete time $t = [t_0, t_1, ... , t_{n-1}]^T$.\n",
    "- $\\Phi_i = [\\Phi_{i(0)}, \\Phi_{i(1)}, ..., \\Phi_{i(n-1)}]^T$ is the time series of the solar radiation absorbed by the indoor surface of the wall at discrete time $t = [t_0, t_1, ... , t_{n-1}]^T$.\n",
    "- $\\dot{Q}_a = [\\dot{Q}_{a(0)}, \\dot{Q}_{a(1)}, ..., \\dot{Q}_{a(n-1)}]^T$ is the time series of the auxiliary heat gains (i.e., occupants, electrical devices, etc.) at discrete time $t = [t_0, t_1, ... , t_{n-1}]^T$.\n",
    "- $\\Phi_a = [\\Phi_{a(0)}, \\Phi_{a(1)}, ..., \\Phi_{a(n-1)}]^T$ is the time seriesof the solar radiation absorbed by the glass at discrete time $t = [t_0, t_1, ... , t_{n-1}]^T$.\n",
    "\n",
    "Let's consider a step response in the conditions used for steady-state analysis, i.e. $T_o = 10 \\, \\mathrm{^\\circ C}$, $T_{i,sp} = 20 \\, \\mathrm{^\\circ C}$, and all the flow sources zero (including the HVAC system)."
   ]
  },
  {
   "cell_type": "markdown",
   "id": "16b00bca",
   "metadata": {},
   "source": [
    "#### Time Integration"
   ]
  },
  {
   "cell_type": "markdown",
   "id": "55ffdba2",
   "metadata": {},
   "source": [
    "By integrating the state-space model\n",
    "\n",
    "$$\\left\\{\\begin{array}{rr}\n",
    "\\dot{\\theta}_C=A_s \\theta_C + B_s u\\\\ \n",
    "y = C_s \\theta_C + D_s u\n",
    "\\end{array}\\right.$$\n",
    "\n",
    "by using Euler forward (or explicit) method for numerical integration:\n",
    "\n",
    "$$ \\theta_{s,k+1} = (I + \\Delta t A) \\theta_{s,k} + \\Delta t B u_k $$\n",
    "\n",
    "and Euler backward (or implicit) method for numerical integration:\n",
    "\n",
    "$$\\theta_{s,k+1} = (I - \\Delta t A)^{-1} ( \\theta_{s,k} + \\Delta t B u_k )$$\n",
    "\n",
    "where $k = 0, ... , n - 1$,"
   ]
  },
  {
   "cell_type": "code",
   "execution_count": 33,
   "id": "460cac43",
   "metadata": {},
   "outputs": [
    {
     "name": "stdout",
     "output_type": "stream",
     "text": [
      "b =  [10.  0.  0.  0.  0.  0.  0.  0.  0. 10.  0.  0.  0.  0. 10. 20. 20. 10.]\n",
      "f =  [1. 0. 1. 0. 0. 0. 1. 0. 1. 1. 1.]\n",
      "As = \n",
      " [[-3.51632886e-04  1.95321179e-05]\n",
      " [ 3.07732587e-07 -6.20298705e-07]] \n",
      "\n",
      "Bs = \n",
      " [[1.96748470e-08 0.00000000e+00 2.98870294e-09 3.32078105e-04\n",
      "  0.00000000e+00 0.00000000e+00 8.74437643e-11 6.83666992e-07\n",
      "  0.00000000e+00 0.00000000e+00 0.00000000e+00 3.32078105e-10]\n",
      " [0.00000000e+00 1.85175438e-11 0.00000000e+00 0.00000000e+00\n",
      "  3.12544787e-07 2.81290308e-12 0.00000000e+00 0.00000000e+00\n",
      "  6.43452704e-10 8.23001947e-14 3.12544787e-13 0.00000000e+00]] \n",
      "\n",
      "Cs = \n",
      " [[0.00000000e+00 1.06935324e-05]\n",
      " [1.79008363e-04 0.00000000e+00]] \n",
      "\n",
      "Ds = \n",
      " [[0.00000000e+00 5.92429721e-05 0.00000000e+00 0.00000000e+00\n",
      "  9.99921064e-01 8.99928958e-06 0.00000000e+00 0.00000000e+00\n",
      "  9.77917911e-07 2.63302098e-07 9.99921064e-07 0.00000000e+00]\n",
      " [5.92330006e-05 0.00000000e+00 8.99777485e-06 9.99752761e-01\n",
      "  0.00000000e+00 0.00000000e+00 2.63257780e-07 6.31422796e-07\n",
      "  0.00000000e+00 0.00000000e+00 0.00000000e+00 9.99752761e-07]] \n",
      "\n"
     ]
    }
   ],
   "source": [
    "b = np.zeros(18)        # temperature sources\n",
    "b[[0, 9, 14, 17]] = 10      # outdoor temperature\n",
    "b[[15, 16]] = 20            # indoor set-point temperature\n",
    "print(f'b = ', b)\n",
    "f = np.zeros(11)         # nodes\n",
    "f[[0, 2, 6, 8, 9, 10]] = 1     # nodes with heat-flow sources\n",
    "print(f'f = ', f)\n",
    "[As, Bs, Cs, Ds] = dm4bem.tc2ss(A, G, b, C, f, y)\n",
    "print('As = \\n', As, '\\n')\n",
    "print('Bs = \\n', Bs, '\\n')\n",
    "print('Cs = \\n', Cs, '\\n')\n",
    "print('Ds = \\n', Ds, '\\n')"
   ]
  },
  {
   "cell_type": "code",
   "execution_count": 34,
   "id": "1bfa4ffb",
   "metadata": {},
   "outputs": [],
   "source": [
    "n_s = As.shape[0]                      # number of state variables\n",
    "θ_exp = np.zeros([n_s, t.shape[0]])    # explicit Euler in time t\n",
    "θ_imp = np.zeros([n_s, t.shape[0]])    # implicit Euler in time t\n",
    "\n",
    "I = np.eye(n_s)                        # identity matrix\n",
    "\n",
    "for k in range(n - 1):\n",
    "    θ_exp[:, k + 1] = (I + dt * As) @\\\n",
    "        θ_exp[:, k] + dt * Bs @ u[:, k]\n",
    "    θ_imp[:, k + 1] = np.linalg.inv(I - dt * As) @\\\n",
    "        (θ_imp[:, k] + dt * Bs @ u[:, k])"
   ]
  },
  {
   "cell_type": "markdown",
   "id": "9eb84390",
   "metadata": {},
   "source": [
    "we obtain the outputs\n",
    "\n",
    "$$ y = C_s \\theta_s + D_s u$$\n",
    "\n",
    "for explicit and for implicit Euler methods, respectively."
   ]
  },
  {
   "cell_type": "code",
   "execution_count": 35,
   "id": "c439548d",
   "metadata": {},
   "outputs": [],
   "source": [
    "y_exp = Cs @ θ_exp + Ds @  u\n",
    "y_imp = Cs @ θ_imp + Ds @  u\n",
    "#print('y_exp = \\n', y_exp, '\\n')\n",
    "#print('y_imp = \\n', y_imp, '\\n')"
   ]
  },
  {
   "cell_type": "markdown",
   "id": "e94c9664",
   "metadata": {},
   "source": [
    "The results of explicit and implicit Euler integration are practically identical."
   ]
  },
  {
   "cell_type": "code",
   "execution_count": 36,
   "id": "c2de8e11",
   "metadata": {},
   "outputs": [
    {
     "data": {
      "image/png": "[encoded data removed]",
      "text/plain": [
       "<Figure size 432x288 with 1 Axes>"
      ]
     },
     "metadata": {
      "needs_background": "light"
     },
     "output_type": "display_data"
    }
   ],
   "source": [
    "fig, ax = plt.subplots()\n",
    "ax.plot(t / 3600, y_exp.T, t / 3600, y_imp.T)\n",
    "ax.set(xlabel='Time, $t$ / h',\n",
    "       ylabel='Temperatue, $θ_i$ / °C',\n",
    "       title='Step input: outdoor temperature $T_o$')\n",
    "ax.legend(['Explicit', 'Implicit'])\n",
    "ax.grid()\n",
    "plt.show()"
   ]
  },
  {
   "cell_type": "markdown",
   "id": "ad1d0141",
   "metadata": {},
   "source": [
    "> Figure 3. Step response to outdoor temperature by using Euler implicit and explicit integration.\n",
    "\n",
    "The value the indoor temperature obtained after the settling time is almost equal to the value obtained in steady-state.\n",
    "\n",
    "When the proportional gain coefficient (Kp) is very low or zero, regulation is absent and the solution reaches the fixed outdoor temperature of 10°C. This is consistent.\n",
    "\n",
    "Secondly, the time step used in the simulation plays an essential role. When the time step is reduced, the time samples are closer together, which allows rapid variations in the system to be captured more accurately. As a result, the response shows fewer oscillations because abrupt changes are better represented. On the other hand, with a high time step, the simulation risks missing rapid variations and underestimating the response of the system, leading to an oscillating and unstable response. Consequently, it is important to adjust the time step in the numerical simulations appropriately in order to obtain an accurate and stable response from the system under study."
   ]
  },
  {
   "cell_type": "code",
   "execution_count": 37,
   "id": "7b3c66cc",
   "metadata": {},
   "outputs": [
    {
     "name": "stdout",
     "output_type": "stream",
     "text": [
      "Steady-state indoor temperature obtained with:\n",
      "- DAE model 1: 19.9993 °C\n",
      "- DAE model 2: 19.9993 °C\n",
      "- state-space model in room 1 : 19.9993 °C\n",
      "- state-space model in room 2 : 19.9993 °C\n",
      "- steady-state response to step input: 19.9992 °C\n",
      "- steady-state response to step input: 19.9993 °C\n"
     ]
    }
   ],
   "source": [
    "print('Steady-state indoor temperature obtained with:')\n",
    "print(f'- DAE model 1: {float(θ[9]):.4f} °C')\n",
    "print(f'- DAE model 2: {float(θ[10]):.4f} °C')\n",
    "print(f'- state-space model in room 1 : {float(yss[0][0]):.4f} °C')\n",
    "print(f'- state-space model in room 2 : {float(yss[1][0]):.4f} °C')\n",
    "print(f'- steady-state response to step input: {float(y_exp[:, -2][0]):.4f} °C')\n",
    "print(f'- steady-state response to step input: {float(y_exp[:, -2][1]):.4f} °C')"
   ]
  },
  {
   "cell_type": "markdown",
   "id": "3ce29173",
   "metadata": {},
   "source": [
    "## Simulation with weather data\n",
    "### Start and End time\n",
    "The simulation will be done from `start_date` to `end_date` indicated in the format `MM-DD HH:MM:SS` (month, day, hour:minute:second)."
   ]
  },
  {
   "cell_type": "code",
   "execution_count": 38,
   "id": "1e62e95d",
   "metadata": {},
   "outputs": [],
   "source": [
    "start_date = '01-03 12:00:00'\n",
    "end_date = '02-05 18:00:00'"
   ]
  },
  {
   "cell_type": "markdown",
   "id": "32c0a7dc",
   "metadata": {},
   "source": [
    "The weather data are for a year. The choice of `2000` for the year is arbitrary; it used in order to respect the format `YYYY-MM-DD HH:MM:SS`."
   ]
  },
  {
   "cell_type": "code",
   "execution_count": 39,
   "id": "a52b2c88",
   "metadata": {},
   "outputs": [
    {
     "name": "stdout",
     "output_type": "stream",
     "text": [
      "2000-01-03 12:00:00 \tstart date\n",
      "2000-02-05 18:00:00 \tend date\n"
     ]
    }
   ],
   "source": [
    "start_date = '2000-' + start_date\n",
    "end_date = '2000-' + end_date\n",
    "print(f'{start_date} \\tstart date')\n",
    "print(f'{end_date} \\tend date')"
   ]
  },
  {
   "cell_type": "markdown",
   "id": "dbb3bdd8",
   "metadata": {},
   "source": [
    "### Inputs\n",
    "#### Read weather data\n",
    "Dynamic simulation needs time series of weather data for air temperature, direct solar radiation on a normal surface and diffuse solar radiation on an horizontal surface (see the tutorial on Weather data and solar radiation)."
   ]
  },
  {
   "cell_type": "code",
   "execution_count": 40,
   "id": "e57c6a0f",
   "metadata": {},
   "outputs": [],
   "source": [
    "filename = 'FRA_NC_Lille-Lesquin.AP.070150_TMYx.2007-2021.epw'\n",
    "[data, meta] = dm4bem.read_epw(filename, coerce_year=None)\n",
    "weather = data[[\"temp_air\", \"dir_n_rad\", \"dif_h_rad\"]]\n",
    "del data"
   ]
  },
  {
   "cell_type": "markdown",
   "id": "134d9893",
   "metadata": {},
   "source": [
    "From the weather data, we select:\n",
    "\n",
    "- hourly outdoor air temperature, °C;\n",
    "- hourly solar direct normal irradiance (or beam radiation), W/m²;\n",
    "- hourly solar diffuse horizontal irradiance (or diffuse sky radiation), W/m²,\n",
    "from the start to the end date."
   ]
  },
  {
   "cell_type": "code",
   "execution_count": 41,
   "id": "23373e1a",
   "metadata": {},
   "outputs": [],
   "source": [
    "weather.index = weather.index.map(lambda t: t.replace(year=2000))\n",
    "#weather = weather.loc[start_date:end_date]"
   ]
  },
  {
   "cell_type": "markdown",
   "id": "716d2aaa",
   "metadata": {},
   "source": [
    "#### Solar irradiance on the walls\n",
    "For the surface orientation given by slope, azimuthand latitude, and the albedo of the surface in front of the wall, by using the weather data, we can calculate the:\n",
    "- direct irradiance, W/m²,\n",
    "- diffuse irradiance, W/m²,\n",
    "- reflected irradiance, W/m²,\n",
    "for hourly solar irradiance on a tilted surface."
   ]
  },
  {
   "cell_type": "code",
   "execution_count": 42,
   "id": "102fc220",
   "metadata": {},
   "outputs": [],
   "source": [
    "surface_orientation = {'slope': 90,\n",
    "                       'azimuth': 0,\n",
    "                       'latitude': 45}\n",
    "albedo = 0.2\n",
    "rad_surf = dm4bem.sol_rad_tilt_surf(\n",
    "    weather, surface_orientation, albedo)\n",
    "#pd.DataFrame(rad_surf)"
   ]
  },
  {
   "cell_type": "markdown",
   "id": "7cfb5043",
   "metadata": {},
   "source": [
    "The total solar irradiance $E_{tot}$ , in W/m², is the sum of direct, diffuse, and reflected components."
   ]
  },
  {
   "cell_type": "code",
   "execution_count": 43,
   "id": "9e8300fc",
   "metadata": {},
   "outputs": [],
   "source": [
    "rad_surf['Φtot'] = rad_surf.sum(axis=1)"
   ]
  },
  {
   "cell_type": "markdown",
   "id": "eb4c3c19",
   "metadata": {},
   "source": [
    "#### Resample the weather data\n",
    "The weather data is at the time-step of 1h. It needs to be resampled at time step $\\Delta t$ used for numerical integration."
   ]
  },
  {
   "cell_type": "code",
   "execution_count": 44,
   "id": "800a9877",
   "metadata": {},
   "outputs": [
    {
     "data": {
      "text/html": [
       "<div>\n",
       "<style scoped>\n",
       "    .dataframe tbody tr th:only-of-type {\n",
       "        vertical-align: middle;\n",
       "    }\n",
       "\n",
       "    .dataframe tbody tr th {\n",
       "        vertical-align: top;\n",
       "    }\n",
       "\n",
       "    .dataframe thead th {\n",
       "        text-align: right;\n",
       "    }\n",
       "</style>\n",
       "<table border=\"1\" class=\"dataframe\">\n",
       "  <thead>\n",
       "    <tr style=\"text-align: right;\">\n",
       "      <th></th>\n",
       "      <th>To</th>\n",
       "      <th>Φtot</th>\n",
       "    </tr>\n",
       "  </thead>\n",
       "  <tbody>\n",
       "    <tr>\n",
       "      <th>2000-01-01 00:00:00+01:00</th>\n",
       "      <td>7.20</td>\n",
       "      <td>0.0</td>\n",
       "    </tr>\n",
       "    <tr>\n",
       "      <th>2000-01-01 01:34:00+01:00</th>\n",
       "      <td>7.11</td>\n",
       "      <td>0.0</td>\n",
       "    </tr>\n",
       "    <tr>\n",
       "      <th>2000-01-01 03:08:00+01:00</th>\n",
       "      <td>7.02</td>\n",
       "      <td>0.0</td>\n",
       "    </tr>\n",
       "    <tr>\n",
       "      <th>2000-01-01 04:42:00+01:00</th>\n",
       "      <td>6.93</td>\n",
       "      <td>0.0</td>\n",
       "    </tr>\n",
       "    <tr>\n",
       "      <th>2000-01-01 06:16:00+01:00</th>\n",
       "      <td>6.84</td>\n",
       "      <td>0.0</td>\n",
       "    </tr>\n",
       "    <tr>\n",
       "      <th>...</th>\n",
       "      <td>...</td>\n",
       "      <td>...</td>\n",
       "    </tr>\n",
       "    <tr>\n",
       "      <th>2000-12-31 16:28:00+01:00</th>\n",
       "      <td>9.80</td>\n",
       "      <td>0.0</td>\n",
       "    </tr>\n",
       "    <tr>\n",
       "      <th>2000-12-31 18:02:00+01:00</th>\n",
       "      <td>9.80</td>\n",
       "      <td>0.0</td>\n",
       "    </tr>\n",
       "    <tr>\n",
       "      <th>2000-12-31 19:36:00+01:00</th>\n",
       "      <td>9.80</td>\n",
       "      <td>0.0</td>\n",
       "    </tr>\n",
       "    <tr>\n",
       "      <th>2000-12-31 21:10:00+01:00</th>\n",
       "      <td>9.80</td>\n",
       "      <td>0.0</td>\n",
       "    </tr>\n",
       "    <tr>\n",
       "      <th>2000-12-31 22:44:00+01:00</th>\n",
       "      <td>9.80</td>\n",
       "      <td>0.0</td>\n",
       "    </tr>\n",
       "  </tbody>\n",
       "</table>\n",
       "<p>5607 rows × 2 columns</p>\n",
       "</div>"
      ],
      "text/plain": [
       "                             To  Φtot\n",
       "2000-01-01 00:00:00+01:00  7.20   0.0\n",
       "2000-01-01 01:34:00+01:00  7.11   0.0\n",
       "2000-01-01 03:08:00+01:00  7.02   0.0\n",
       "2000-01-01 04:42:00+01:00  6.93   0.0\n",
       "2000-01-01 06:16:00+01:00  6.84   0.0\n",
       "...                         ...   ...\n",
       "2000-12-31 16:28:00+01:00  9.80   0.0\n",
       "2000-12-31 18:02:00+01:00  9.80   0.0\n",
       "2000-12-31 19:36:00+01:00  9.80   0.0\n",
       "2000-12-31 21:10:00+01:00  9.80   0.0\n",
       "2000-12-31 22:44:00+01:00  9.80   0.0\n",
       "\n",
       "[5607 rows x 2 columns]"
      ]
     },
     "execution_count": 44,
     "metadata": {},
     "output_type": "execute_result"
    }
   ],
   "source": [
    "#resample weather data\n",
    "data = pd.concat([weather['temp_air'], rad_surf['Φtot']], axis=1)\n",
    "data = data.resample(str(dt) + 'S').interpolate(method='linear')\n",
    "data = data.rename(columns={'temp_air': 'To'})\n",
    "pd.DataFrame(data)"
   ]
  },
  {
   "cell_type": "markdown",
   "id": "7ef8531b",
   "metadata": {},
   "source": [
    "#### Other inputs\n",
    "Let's consider the indoor temperature setpoint $T_{i,sp} = 20 \\, \\mathrm{^\\circ C}$, and the auxiliary heat flow $\\dot{Q}_a = 0 \\, \\mathrm{W}$ constant for the whole duration of the simulation."
   ]
  },
  {
   "cell_type": "code",
   "execution_count": 45,
   "id": "6dc46db3",
   "metadata": {},
   "outputs": [
    {
     "data": {
      "text/html": [
       "<div>\n",
       "<style scoped>\n",
       "    .dataframe tbody tr th:only-of-type {\n",
       "        vertical-align: middle;\n",
       "    }\n",
       "\n",
       "    .dataframe tbody tr th {\n",
       "        vertical-align: top;\n",
       "    }\n",
       "\n",
       "    .dataframe thead th {\n",
       "        text-align: right;\n",
       "    }\n",
       "</style>\n",
       "<table border=\"1\" class=\"dataframe\">\n",
       "  <thead>\n",
       "    <tr style=\"text-align: right;\">\n",
       "      <th></th>\n",
       "      <th>To</th>\n",
       "      <th>Φtot</th>\n",
       "      <th>Ti</th>\n",
       "      <th>Qa</th>\n",
       "    </tr>\n",
       "  </thead>\n",
       "  <tbody>\n",
       "    <tr>\n",
       "      <th>2000-01-01 00:00:00+01:00</th>\n",
       "      <td>7.20</td>\n",
       "      <td>0.0</td>\n",
       "      <td>20.0</td>\n",
       "      <td>0.0</td>\n",
       "    </tr>\n",
       "    <tr>\n",
       "      <th>2000-01-01 01:34:00+01:00</th>\n",
       "      <td>7.11</td>\n",
       "      <td>0.0</td>\n",
       "      <td>20.0</td>\n",
       "      <td>0.0</td>\n",
       "    </tr>\n",
       "    <tr>\n",
       "      <th>2000-01-01 03:08:00+01:00</th>\n",
       "      <td>7.02</td>\n",
       "      <td>0.0</td>\n",
       "      <td>20.0</td>\n",
       "      <td>0.0</td>\n",
       "    </tr>\n",
       "    <tr>\n",
       "      <th>2000-01-01 04:42:00+01:00</th>\n",
       "      <td>6.93</td>\n",
       "      <td>0.0</td>\n",
       "      <td>20.0</td>\n",
       "      <td>0.0</td>\n",
       "    </tr>\n",
       "    <tr>\n",
       "      <th>2000-01-01 06:16:00+01:00</th>\n",
       "      <td>6.84</td>\n",
       "      <td>0.0</td>\n",
       "      <td>20.0</td>\n",
       "      <td>0.0</td>\n",
       "    </tr>\n",
       "    <tr>\n",
       "      <th>...</th>\n",
       "      <td>...</td>\n",
       "      <td>...</td>\n",
       "      <td>...</td>\n",
       "      <td>...</td>\n",
       "    </tr>\n",
       "    <tr>\n",
       "      <th>2000-12-31 16:28:00+01:00</th>\n",
       "      <td>9.80</td>\n",
       "      <td>0.0</td>\n",
       "      <td>20.0</td>\n",
       "      <td>0.0</td>\n",
       "    </tr>\n",
       "    <tr>\n",
       "      <th>2000-12-31 18:02:00+01:00</th>\n",
       "      <td>9.80</td>\n",
       "      <td>0.0</td>\n",
       "      <td>20.0</td>\n",
       "      <td>0.0</td>\n",
       "    </tr>\n",
       "    <tr>\n",
       "      <th>2000-12-31 19:36:00+01:00</th>\n",
       "      <td>9.80</td>\n",
       "      <td>0.0</td>\n",
       "      <td>20.0</td>\n",
       "      <td>0.0</td>\n",
       "    </tr>\n",
       "    <tr>\n",
       "      <th>2000-12-31 21:10:00+01:00</th>\n",
       "      <td>9.80</td>\n",
       "      <td>0.0</td>\n",
       "      <td>20.0</td>\n",
       "      <td>0.0</td>\n",
       "    </tr>\n",
       "    <tr>\n",
       "      <th>2000-12-31 22:44:00+01:00</th>\n",
       "      <td>9.80</td>\n",
       "      <td>0.0</td>\n",
       "      <td>20.0</td>\n",
       "      <td>0.0</td>\n",
       "    </tr>\n",
       "  </tbody>\n",
       "</table>\n",
       "<p>5607 rows × 4 columns</p>\n",
       "</div>"
      ],
      "text/plain": [
       "                             To  Φtot    Ti   Qa\n",
       "2000-01-01 00:00:00+01:00  7.20   0.0  20.0  0.0\n",
       "2000-01-01 01:34:00+01:00  7.11   0.0  20.0  0.0\n",
       "2000-01-01 03:08:00+01:00  7.02   0.0  20.0  0.0\n",
       "2000-01-01 04:42:00+01:00  6.93   0.0  20.0  0.0\n",
       "2000-01-01 06:16:00+01:00  6.84   0.0  20.0  0.0\n",
       "...                         ...   ...   ...  ...\n",
       "2000-12-31 16:28:00+01:00  9.80   0.0  20.0  0.0\n",
       "2000-12-31 18:02:00+01:00  9.80   0.0  20.0  0.0\n",
       "2000-12-31 19:36:00+01:00  9.80   0.0  20.0  0.0\n",
       "2000-12-31 21:10:00+01:00  9.80   0.0  20.0  0.0\n",
       "2000-12-31 22:44:00+01:00  9.80   0.0  20.0  0.0\n",
       "\n",
       "[5607 rows x 4 columns]"
      ]
     },
     "execution_count": 45,
     "metadata": {},
     "output_type": "execute_result"
    }
   ],
   "source": [
    "data['Ti'] = 20 * np.ones(data.shape[0])\n",
    "data['Qa'] = 0 * np.ones(data.shape[0])\n",
    "pd.DataFrame(data)"
   ]
  },
  {
   "cell_type": "markdown",
   "id": "2ff9e255",
   "metadata": {},
   "source": [
    "#### Input vector in time\n",
    "The input is formed by the vectors of time series of temperature sources $\\left[ T_o, T_o, T_o, T_{i,sp}, T_{i,sp}, T_0 \\right]^T$ and vectors of time series of the heat flow sources $\\left[ \\Phi_a, \\Phi_i, \\Phi_i, \\Phi_a, \\dot{Q}_a, \\dot{Q}_a \\right]^T$ \n",
    "\n",
    "$$u = \n",
    "\\begin{bmatrix}\n",
    "T_o\\\\\n",
    "T_o\\\\\n",
    "T_o\\\\\n",
    "T_{i,sp}\\\\\n",
    "T_{i,sp}\\\\\n",
    "T_0\\\\\n",
    "\\Phi_a\\\\\n",
    "\\Phi_i\\\\\n",
    "\\Phi_i\\\\\n",
    "\\Phi_a\\\\\n",
    "\\dot{Q}_a\\\\\n",
    "\\dot{Q}_a\\\\\n",
    "\\end{bmatrix}\n",
    "= \\begin{bmatrix}\n",
    "T_{o(0)} & T_{o(1)}& \\dots & T_{o(n-1)}\\\\\n",
    "T_{o(0)} & T_{o(1)}& \\dots & T_{o(n-1)}\\\\\n",
    "T_{o(0)} & T_{o(1)}& \\dots & T_{o(n-1)}\\\\\n",
    "T_{i,sp(0)} & T_{i,sp(1)}& \\dots & T_{i,sp(n-1)}\\\\\n",
    "T_{i,sp(0)} & T_{i,sp(1)}& \\dots & T_{i,sp(n-1)}\\\\\n",
    "T_{o(0)} & T_{o(1)}& \\dots & T_{o(n-1)}\\\\\n",
    "\\Phi_{a,(0)} & \\Phi_{a,(1)} & \\dots & \\Phi_{a,(n-1)}\\\\\n",
    "\\Phi_{i,(0)} & \\Phi_{i,(1)} & \\dots & \\Phi_{i,(n-1)}\\\\\n",
    "\\Phi_{i,(0)} & \\Phi_{i,(1)} & \\dots & \\Phi_{i,(n-1)}\\\\\n",
    "\\dot{Q}_{a(0)} & \\dot{Q}_{a(1)} & \\dots & \\dot{Q}_{a(n-1)}\\\\\n",
    "\\dot{Q}_{a(0)} & \\dot{Q}_{a(1)} & \\dots & \\dot{Q}_{a(n-1)}\\\\\n",
    "\\end{bmatrix}$$\n",
    "\n",
    "where:\n",
    "\n",
    "$T_o$: the time series vector of outdoor temperatures (from weather data), °C.\n",
    "\n",
    "$T_{i,sp}$: time series vector of indoor setpoint temperatures, °C.\n",
    "\n",
    "$\\Phi_o$: time series vector of solar (i.e. short wave) radiation, in W, absorbed by the outdoor surface of the wall:\n",
    "\n",
    "$$\\Phi_o = \\alpha_{w,SW} S_w E_{tot}$$\n",
    "\n",
    "where:\n",
    "\n",
    "- $\\alpha_{w,SW}$ is the absortion coefficient of the outdoor surface of the wall in short wave, $0 \\leqslant \\alpha_{w,SW} \\leqslant 1$;\n",
    "- $S_w$ - surface area of the wall, m²;\n",
    "- $E_{tot}$ - total solar irradiation on the wall, W/m².\n",
    "\n",
    "$\\Phi_i$: time series vector of short wave (i.e. solar) radiation, in W, absorbed by the indoor surfaces of the wall:\n",
    "\n",
    "$$\\Phi_i = \\tau_{g,SW}  \\alpha_{w,SW} S_g E_{tot}$$\n",
    "\n",
    "where:\n",
    "- $\\tau_{g,SW}$ is the transmission coefficient of the window glass, $0 \\leqslant \\tau_{g,SW} \\leqslant 1$;\n",
    "- $\\alpha_{w,SW}$ - absortion coefficient of the indoor surface of the wall in short wave, $0 \\leqslant \\alpha_{w,SW} \\leqslant 1$;\n",
    "- $S_g$ - surface area of the window glass, m²;\n",
    "- $E_{tot}$ - total solar radiation intensity on the wall, W/m².\n",
    "\n",
    "$\\dot{Q}_a$: time vector of auxiliary heat flows (from occupants, electrical devices, etc.), W.\n",
    "\n",
    "$\\Phi_a$: time series vector of short wave (i.e. solar) radiation, in W, absorbed by the window glass:\n",
    "\n",
    "$$\\Phi_a = \\alpha_{g,SW} S_g E_{tot}$$\n",
    "\n",
    "where:\n",
    "- $\\alpha_{g,SW}$ is the absortion coefficient of the glass window in short wave, $0 \\leqslant \\alpha_{w,SW} \\leqslant 1$;\n",
    "- $S_g$ - surface area of the glass window, m²;\n",
    "- $E_{tot}$ - total solar irradiation on the wall, W/m²."
   ]
  },
  {
   "cell_type": "code",
   "execution_count": 46,
   "id": "423e0c78",
   "metadata": {},
   "outputs": [
    {
     "name": "stdout",
     "output_type": "stream",
     "text": [
      "Φo = \n",
      " 2000-01-01 00:00:00+01:00    0.0\n",
      "2000-01-01 01:34:00+01:00    0.0\n",
      "2000-01-01 03:08:00+01:00    0.0\n",
      "2000-01-01 04:42:00+01:00    0.0\n",
      "2000-01-01 06:16:00+01:00    0.0\n",
      "                            ... \n",
      "2000-12-31 16:28:00+01:00    0.0\n",
      "2000-12-31 18:02:00+01:00    0.0\n",
      "2000-12-31 19:36:00+01:00    0.0\n",
      "2000-12-31 21:10:00+01:00    0.0\n",
      "2000-12-31 22:44:00+01:00    0.0\n",
      "Freq: 5640S, Name: Φtot, Length: 5607, dtype: float64 \n",
      "\n",
      "To = \n",
      " 2000-01-01 00:00:00+01:00    7.20\n",
      "2000-01-01 01:34:00+01:00    7.11\n",
      "2000-01-01 03:08:00+01:00    7.02\n",
      "2000-01-01 04:42:00+01:00    6.93\n",
      "2000-01-01 06:16:00+01:00    6.84\n",
      "                             ... \n",
      "2000-12-31 16:28:00+01:00    9.80\n",
      "2000-12-31 18:02:00+01:00    9.80\n",
      "2000-12-31 19:36:00+01:00    9.80\n",
      "2000-12-31 21:10:00+01:00    9.80\n",
      "2000-12-31 22:44:00+01:00    9.80\n",
      "Freq: 5640S, Name: To, Length: 5607, dtype: float64 \n",
      "\n"
     ]
    },
    {
     "data": {
      "text/html": [
       "<div>\n",
       "<style scoped>\n",
       "    .dataframe tbody tr th:only-of-type {\n",
       "        vertical-align: middle;\n",
       "    }\n",
       "\n",
       "    .dataframe tbody tr th {\n",
       "        vertical-align: top;\n",
       "    }\n",
       "\n",
       "    .dataframe thead th {\n",
       "        text-align: right;\n",
       "    }\n",
       "</style>\n",
       "<table border=\"1\" class=\"dataframe\">\n",
       "  <thead>\n",
       "    <tr style=\"text-align: right;\">\n",
       "      <th></th>\n",
       "      <th>To</th>\n",
       "      <th>To</th>\n",
       "      <th>To</th>\n",
       "      <th>Ti</th>\n",
       "      <th>Ti</th>\n",
       "      <th>To</th>\n",
       "      <th>Φa</th>\n",
       "      <th>Φi</th>\n",
       "      <th>Φi</th>\n",
       "      <th>Φa</th>\n",
       "      <th>Qa</th>\n",
       "      <th>Qa</th>\n",
       "    </tr>\n",
       "  </thead>\n",
       "  <tbody>\n",
       "    <tr>\n",
       "      <th>2000-01-01 00:00:00+01:00</th>\n",
       "      <td>7.20</td>\n",
       "      <td>7.20</td>\n",
       "      <td>7.20</td>\n",
       "      <td>20.0</td>\n",
       "      <td>20.0</td>\n",
       "      <td>7.20</td>\n",
       "      <td>0.0</td>\n",
       "      <td>0.0</td>\n",
       "      <td>0.0</td>\n",
       "      <td>0.0</td>\n",
       "      <td>0.0</td>\n",
       "      <td>0.0</td>\n",
       "    </tr>\n",
       "    <tr>\n",
       "      <th>2000-01-01 01:34:00+01:00</th>\n",
       "      <td>7.11</td>\n",
       "      <td>7.11</td>\n",
       "      <td>7.11</td>\n",
       "      <td>20.0</td>\n",
       "      <td>20.0</td>\n",
       "      <td>7.11</td>\n",
       "      <td>0.0</td>\n",
       "      <td>0.0</td>\n",
       "      <td>0.0</td>\n",
       "      <td>0.0</td>\n",
       "      <td>0.0</td>\n",
       "      <td>0.0</td>\n",
       "    </tr>\n",
       "    <tr>\n",
       "      <th>2000-01-01 03:08:00+01:00</th>\n",
       "      <td>7.02</td>\n",
       "      <td>7.02</td>\n",
       "      <td>7.02</td>\n",
       "      <td>20.0</td>\n",
       "      <td>20.0</td>\n",
       "      <td>7.02</td>\n",
       "      <td>0.0</td>\n",
       "      <td>0.0</td>\n",
       "      <td>0.0</td>\n",
       "      <td>0.0</td>\n",
       "      <td>0.0</td>\n",
       "      <td>0.0</td>\n",
       "    </tr>\n",
       "    <tr>\n",
       "      <th>2000-01-01 04:42:00+01:00</th>\n",
       "      <td>6.93</td>\n",
       "      <td>6.93</td>\n",
       "      <td>6.93</td>\n",
       "      <td>20.0</td>\n",
       "      <td>20.0</td>\n",
       "      <td>6.93</td>\n",
       "      <td>0.0</td>\n",
       "      <td>0.0</td>\n",
       "      <td>0.0</td>\n",
       "      <td>0.0</td>\n",
       "      <td>0.0</td>\n",
       "      <td>0.0</td>\n",
       "    </tr>\n",
       "    <tr>\n",
       "      <th>2000-01-01 06:16:00+01:00</th>\n",
       "      <td>6.84</td>\n",
       "      <td>6.84</td>\n",
       "      <td>6.84</td>\n",
       "      <td>20.0</td>\n",
       "      <td>20.0</td>\n",
       "      <td>6.84</td>\n",
       "      <td>0.0</td>\n",
       "      <td>0.0</td>\n",
       "      <td>0.0</td>\n",
       "      <td>0.0</td>\n",
       "      <td>0.0</td>\n",
       "      <td>0.0</td>\n",
       "    </tr>\n",
       "    <tr>\n",
       "      <th>...</th>\n",
       "      <td>...</td>\n",
       "      <td>...</td>\n",
       "      <td>...</td>\n",
       "      <td>...</td>\n",
       "      <td>...</td>\n",
       "      <td>...</td>\n",
       "      <td>...</td>\n",
       "      <td>...</td>\n",
       "      <td>...</td>\n",
       "      <td>...</td>\n",
       "      <td>...</td>\n",
       "      <td>...</td>\n",
       "    </tr>\n",
       "    <tr>\n",
       "      <th>2000-12-31 16:28:00+01:00</th>\n",
       "      <td>9.80</td>\n",
       "      <td>9.80</td>\n",
       "      <td>9.80</td>\n",
       "      <td>20.0</td>\n",
       "      <td>20.0</td>\n",
       "      <td>9.80</td>\n",
       "      <td>0.0</td>\n",
       "      <td>0.0</td>\n",
       "      <td>0.0</td>\n",
       "      <td>0.0</td>\n",
       "      <td>0.0</td>\n",
       "      <td>0.0</td>\n",
       "    </tr>\n",
       "    <tr>\n",
       "      <th>2000-12-31 18:02:00+01:00</th>\n",
       "      <td>9.80</td>\n",
       "      <td>9.80</td>\n",
       "      <td>9.80</td>\n",
       "      <td>20.0</td>\n",
       "      <td>20.0</td>\n",
       "      <td>9.80</td>\n",
       "      <td>0.0</td>\n",
       "      <td>0.0</td>\n",
       "      <td>0.0</td>\n",
       "      <td>0.0</td>\n",
       "      <td>0.0</td>\n",
       "      <td>0.0</td>\n",
       "    </tr>\n",
       "    <tr>\n",
       "      <th>2000-12-31 19:36:00+01:00</th>\n",
       "      <td>9.80</td>\n",
       "      <td>9.80</td>\n",
       "      <td>9.80</td>\n",
       "      <td>20.0</td>\n",
       "      <td>20.0</td>\n",
       "      <td>9.80</td>\n",
       "      <td>0.0</td>\n",
       "      <td>0.0</td>\n",
       "      <td>0.0</td>\n",
       "      <td>0.0</td>\n",
       "      <td>0.0</td>\n",
       "      <td>0.0</td>\n",
       "    </tr>\n",
       "    <tr>\n",
       "      <th>2000-12-31 21:10:00+01:00</th>\n",
       "      <td>9.80</td>\n",
       "      <td>9.80</td>\n",
       "      <td>9.80</td>\n",
       "      <td>20.0</td>\n",
       "      <td>20.0</td>\n",
       "      <td>9.80</td>\n",
       "      <td>0.0</td>\n",
       "      <td>0.0</td>\n",
       "      <td>0.0</td>\n",
       "      <td>0.0</td>\n",
       "      <td>0.0</td>\n",
       "      <td>0.0</td>\n",
       "    </tr>\n",
       "    <tr>\n",
       "      <th>2000-12-31 22:44:00+01:00</th>\n",
       "      <td>9.80</td>\n",
       "      <td>9.80</td>\n",
       "      <td>9.80</td>\n",
       "      <td>20.0</td>\n",
       "      <td>20.0</td>\n",
       "      <td>9.80</td>\n",
       "      <td>0.0</td>\n",
       "      <td>0.0</td>\n",
       "      <td>0.0</td>\n",
       "      <td>0.0</td>\n",
       "      <td>0.0</td>\n",
       "      <td>0.0</td>\n",
       "    </tr>\n",
       "  </tbody>\n",
       "</table>\n",
       "<p>5607 rows × 12 columns</p>\n",
       "</div>"
      ],
      "text/plain": [
       "                             To    To    To    Ti    Ti    To   Φa   Φi   Φi  \\\n",
       "2000-01-01 00:00:00+01:00  7.20  7.20  7.20  20.0  20.0  7.20  0.0  0.0  0.0   \n",
       "2000-01-01 01:34:00+01:00  7.11  7.11  7.11  20.0  20.0  7.11  0.0  0.0  0.0   \n",
       "2000-01-01 03:08:00+01:00  7.02  7.02  7.02  20.0  20.0  7.02  0.0  0.0  0.0   \n",
       "2000-01-01 04:42:00+01:00  6.93  6.93  6.93  20.0  20.0  6.93  0.0  0.0  0.0   \n",
       "2000-01-01 06:16:00+01:00  6.84  6.84  6.84  20.0  20.0  6.84  0.0  0.0  0.0   \n",
       "...                         ...   ...   ...   ...   ...   ...  ...  ...  ...   \n",
       "2000-12-31 16:28:00+01:00  9.80  9.80  9.80  20.0  20.0  9.80  0.0  0.0  0.0   \n",
       "2000-12-31 18:02:00+01:00  9.80  9.80  9.80  20.0  20.0  9.80  0.0  0.0  0.0   \n",
       "2000-12-31 19:36:00+01:00  9.80  9.80  9.80  20.0  20.0  9.80  0.0  0.0  0.0   \n",
       "2000-12-31 21:10:00+01:00  9.80  9.80  9.80  20.0  20.0  9.80  0.0  0.0  0.0   \n",
       "2000-12-31 22:44:00+01:00  9.80  9.80  9.80  20.0  20.0  9.80  0.0  0.0  0.0   \n",
       "\n",
       "                            Φa   Qa   Qa  \n",
       "2000-01-01 00:00:00+01:00  0.0  0.0  0.0  \n",
       "2000-01-01 01:34:00+01:00  0.0  0.0  0.0  \n",
       "2000-01-01 03:08:00+01:00  0.0  0.0  0.0  \n",
       "2000-01-01 04:42:00+01:00  0.0  0.0  0.0  \n",
       "2000-01-01 06:16:00+01:00  0.0  0.0  0.0  \n",
       "...                        ...  ...  ...  \n",
       "2000-12-31 16:28:00+01:00  0.0  0.0  0.0  \n",
       "2000-12-31 18:02:00+01:00  0.0  0.0  0.0  \n",
       "2000-12-31 19:36:00+01:00  0.0  0.0  0.0  \n",
       "2000-12-31 21:10:00+01:00  0.0  0.0  0.0  \n",
       "2000-12-31 22:44:00+01:00  0.0  0.0  0.0  \n",
       "\n",
       "[5607 rows x 12 columns]"
      ]
     },
     "execution_count": 46,
     "metadata": {},
     "output_type": "execute_result"
    }
   ],
   "source": [
    "# input vector\n",
    "To = data['To']\n",
    "Ti = data['Ti']\n",
    "Φo = α_wSW * wall['Surface']['Layer_out'] * data['Φtot']\n",
    "Φi = τ_gSW * α_wSW * wall['Surface']['Glass'] * data['Φtot']\n",
    "Qa = data['Qa']\n",
    "Φa = α_gSW * wall['Surface']['Glass'] * data['Φtot']\n",
    "\n",
    "print('Φo = \\n', Φo, '\\n')\n",
    "print('To = \\n', To, '\\n')\n",
    "u = pd.concat([To, To, To, Ti, Ti, To, Φa, Φi, Φi, Φa, Qa, Qa], axis=1)\n",
    "u.columns.values[[6, 7, 8, 9]] = ['Φa', 'Φi','Φi', 'Φa']\n",
    "pd.DataFrame(u)"
   ]
  },
  {
   "cell_type": "markdown",
   "id": "9b05f3e0",
   "metadata": {},
   "source": [
    "### Initial conditions\n",
    "The initial value of the state-vector can be zero or different from zero"
   ]
  },
  {
   "cell_type": "code",
   "execution_count": 47,
   "id": "2e2a6509",
   "metadata": {},
   "outputs": [],
   "source": [
    "θ_exp = 20 * np.ones([As.shape[0], u.shape[0]])"
   ]
  },
  {
   "cell_type": "markdown",
   "id": "f7c57b20",
   "metadata": {},
   "source": [
    "### Time integration\n",
    "Explicit Euler integration in time,\n",
    "\n",
    "$$ \\theta_{s,k+1} = (I + \\Delta t A) \\theta_{s,k} + \\Delta t B u_k $$\n",
    "\n",
    "where $k = 0, ... , n - 1$,"
   ]
  },
  {
   "cell_type": "code",
   "execution_count": 48,
   "id": "d0cca20b",
   "metadata": {},
   "outputs": [],
   "source": [
    "for k in range(u.shape[0]-1):\n",
    "    θ_exp[:, k + 1] = (I + dt * As) @ θ_exp[:, k]\\\n",
    "        + dt * Bs @ u.iloc[k, :]"
   ]
  },
  {
   "cell_type": "markdown",
   "id": "48006995",
   "metadata": {},
   "source": [
    "yields the time variation of state variable $\\theta$, from which we obtain the variation of the output (i.e. indoor temperature):\n",
    "\n",
    "$$y = C_s \\theta_s + D_s u$$\n",
    "\n",
    "and the variation of the heat flow of the HVAC system:\n",
    "\n",
    "$$q_{HVAC} = K_p (T_{i,sp} - \\theta_i) = K_p (T_{i,sp} - y)$$\n",
    "\n",
    "where $K_p$ is the gain of the P-controller and $T_{i,sp}$ is the HVAC-setpoint for the indoor temperature."
   ]
  },
  {
   "cell_type": "code",
   "execution_count": 49,
   "id": "5a78a1bf",
   "metadata": {},
   "outputs": [],
   "source": [
    "y_exp = Cs @ θ_exp + Ds @ u.to_numpy().T\n",
    "q_HVAC = Kp * (data['Ti'] - y_exp[0, :])\n",
    "\n",
    "#print(y_exp)\n",
    "\n",
    "#print(q_HVAC)"
   ]
  },
  {
   "cell_type": "code",
   "execution_count": 50,
   "id": "6dc0fa33",
   "metadata": {},
   "outputs": [],
   "source": [
    "data['θi_exp'] = y_exp[0].T\n",
    "data['q_HVAC'] = q_HVAC[0].T"
   ]
  },
  {
   "cell_type": "code",
   "execution_count": 51,
   "id": "9b376fcc",
   "metadata": {},
   "outputs": [
    {
     "data": {
      "image/png": "[encoded data removed]",
      "text/plain": [
       "<Figure size 432x288 with 2 Axes>"
      ]
     },
     "metadata": {
      "needs_background": "light"
     },
     "output_type": "display_data"
    }
   ],
   "source": [
    "fig, axs = plt.subplots(2, 1)\n",
    "\n",
    "data[['To', 'θi_exp']].plot(ax=axs[0],\n",
    "                            xticks=[],\n",
    "                            ylabel='Temperature, $θ$ / °C')\n",
    "axs[0].legend(['$θ_{outdoor}$', '$θ_{indoor}$'],\n",
    "              loc='upper right')\n",
    "\n",
    "data[['Φtot', 'q_HVAC']].plot(ax=axs[1],\n",
    "                              ylabel='Heat rate, $q$ / W')\n",
    "axs[1].set(xlabel='Time')\n",
    "axs[1].legend(['$Φ_{total}$', '$q_{HVAC}$'],\n",
    "             loc='upper right')\n",
    "plt.show()"
   ]
  },
  {
   "cell_type": "markdown",
   "id": "1e4a9d55",
   "metadata": {},
   "source": [
    "> Figure 4. Simulation in free-running with weather data using Euler explicit method of integration. a) Indoor and outdoor temperatures. b) Solar and HVAC heat flow rates."
   ]
  },
  {
   "cell_type": "markdown",
   "id": "77a8e8c2",
   "metadata": {},
   "source": [
    "The indoor temperature is constant close to 20 °. In reality, this temperature is not constant but the variations are very small (of the order of a thousandth of a degree) and to this is added the fact that the evolution is studied over a long period (1 year). "
   ]
  },
  {
   "cell_type": "code",
   "execution_count": 52,
   "id": "6f6c3529",
   "metadata": {},
   "outputs": [
    {
     "data": {
      "image/png": "[encoded data removed]",
      "text/plain": [
       "<Figure size 432x288 with 2 Axes>"
      ]
     },
     "metadata": {
      "needs_background": "light"
     },
     "output_type": "display_data"
    }
   ],
   "source": [
    "t = dt * np.arange(data.shape[0])   # time vector\n",
    "\n",
    "fig, axs = plt.subplots(2, 1)\n",
    "# plot outdoor and indoor temperature\n",
    "axs[0].plot(t / 3600 / 24, data['To'], label='$θ_{outdoor}$')\n",
    "axs[0].plot(t / 3600 / 24, y_exp[0, :], label='$θ_{indoor}$')\n",
    "axs[0].set(ylabel='Temperatures, $θ$ / °C',\n",
    "           title='Simulation for weather')\n",
    "axs[0].legend(loc='upper right')\n",
    "\n",
    "# plot total solar radiation and HVAC heat flow\n",
    "axs[1].plot(t / 3600 / 24, data['Φtot'], label='$Φ_{total}$')\n",
    "axs[1].plot(t / 3600 / 24, q_HVAC, label='$q_{HVAC}$')\n",
    "axs[1].set(xlabel='Time, $t$ / day',\n",
    "           ylabel='Heat flows, $q$ / W')\n",
    "axs[1].legend(loc='upper right')\n",
    "\n",
    "fig.tight_layout()"
   ]
  },
  {
   "cell_type": "markdown",
   "id": "fda99802",
   "metadata": {},
   "source": [
    "> Figure 5. Simulation in free-running with weather data using Euler explicit method of integration. a) Indoor and outdoor temperatures. b) Solar and HVAC heat flow rates."
   ]
  },
  {
   "cell_type": "markdown",
   "id": "5b2c355c",
   "metadata": {},
   "source": [
    "The indoor temperature is constant at around 20°. In reality, this temperature is not constant, but the variations are very small (of the order of a thousandth of a degree). We also note that ventilation is in tune with changes in outdoor temperature. Indeed, when the outdoor temperature drops, the system provides more power to heat the rooms. Conversely, when the temperature rises, power is reduced by ventilating to maintain the temperature at 20°C. "
   ]
  },
  {
   "cell_type": "markdown",
   "id": "14d5ec3b",
   "metadata": {},
   "source": [
    "## Discussion\n",
    "\n",
    "Interchnage the materials  of the layers of the wall. Discuss the step responses and the simuation for weather. Give arguments for the advantages and the disadvanted of indoor and outdoor insulation.\n",
    "\n",
    "The time step depends on:\n",
    "\n",
    "- P-controller gain `Kp`:\n",
    "    - if $K_p \\rightarrow \\infty$, then the controller is perfect and the time step needs to be small;\n",
    "    - if $K_p \\rightarrow 0$, then, the controller is ineffective and the building is in free-running.\n",
    "- Capacities considered into the model:\n",
    "    - if the capacities of the air $C_a =$ `C['Air']` and of the glass $C_g =$ `C['Glass']` are considered, then the time step is small;\n",
    "    - if the capacities of the air and of the glass are zero, then the time step is large (and the order of the state-space model is reduced).\n",
    "\n",
    "The controller models an HVAC system able to heat (when $q_{HVAC} > 0$) and to cool (when $q_{HVAC} < 0$)."
   ]
  }
 ],
 "metadata": {
  "kernelspec": {
   "display_name": "Python 3 (ipykernel)",
   "language": "python",
   "name": "python3"
  },
  "language_info": {
   "codemirror_mode": {
    "name": "ipython",
    "version": 3
   },
   "file_extension": ".py",
   "mimetype": "text/x-python",
   "name": "python",
   "nbconvert_exporter": "python",
   "pygments_lexer": "ipython3",
   "version": "3.9.13"
  }
 },
 "nbformat": 4,
 "nbformat_minor": 5
}
